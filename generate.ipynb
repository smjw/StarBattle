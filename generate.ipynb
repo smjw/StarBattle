{
 "cells": [
  {
   "cell_type": "markdown",
   "metadata": {},
   "source": [
    "Imports"
   ]
  },
  {
   "cell_type": "code",
   "execution_count": 2,
   "metadata": {},
   "outputs": [],
   "source": [
    "import numpy as np\n",
    "import random\n",
    "from pysat.solvers import Solver\n",
    "from collections import deque\n",
    "from scipy.ndimage import label\n",
    "from scipy.spatial import distance\n",
    "import matplotlib.pyplot as plt\n",
    "import itertools \n",
    "import z3\n",
    "import json\n",
    "import os"
   ]
  },
  {
   "cell_type": "markdown",
   "metadata": {},
   "source": [
    "Task 1: Generate puzzles"
   ]
  },
  {
   "cell_type": "markdown",
   "metadata": {},
   "source": [
    "1.1 define puzzle representations"
   ]
  },
  {
   "cell_type": "markdown",
   "metadata": {},
   "source": [
    "using a 2D array , matrix grid where it is NxN grid size. \n",
    "\n",
    "(A-Z) is for the region labels\n",
    "( * ) is for when a star is present in the grid\n"
   ]
  },
  {
   "cell_type": "code",
   "execution_count": 1,
   "metadata": {},
   "outputs": [],
   "source": [
    "#example with 5x5 grid 1 star per row/column/region\n",
    "puzzle = [\n",
    " ['A', 'B', 'C', 'C', 'C'],\n",
    " ['A', 'B', 'C', 'C', 'D'],\n",
    " ['A', 'A', 'C', 'D', 'D'],\n",
    " ['E', 'C', 'C', 'D', 'D'],\n",
    " ['E', 'E', 'E', 'D', 'D']\n",
    " ]\n",
    "\n",
    "solution = [\n",
    " ['0', '1', '0', '0', '0'],\n",
    " ['0', '0', '0', '1', '0'],\n",
    " ['1', '0', '0', '0', '0'],\n",
    " ['0', '0', '0', '0', '1'],\n",
    " ['0', '0', '1', '0', '0']\n",
    "]\n",
    "# example from puzzle-star-battle.com solved by myself"
   ]
  },
  {
   "cell_type": "markdown",
   "metadata": {},
   "source": [
    "Visualiser"
   ]
  },
  {
   "cell_type": "code",
   "execution_count": null,
   "metadata": {},
   "outputs": [],
   "source": [
    "#visualiser first generated visulaiser\n",
    "\n",
    "def visualize_star_battle(puzzle, solution):\n",
    "    size = len(puzzle)\n",
    "    \n",
    "    # Convert NumPy array to list if necessary\n",
    "    if isinstance(solution, np.ndarray):\n",
    "        solution = solution.tolist()\n",
    "\n",
    "    fig, ax = plt.subplots(figsize=(5, 5))\n",
    "\n",
    "    # Create a grid\n",
    "    for x in range(size + 1):\n",
    "        ax.plot([x, x], [0, size], 'k', lw=1)  # Vertical lines\n",
    "        ax.plot([0, size], [x, x], 'k', lw=1)  # Horizontal lines\n",
    "\n",
    "    # Fill in regions with colors\n",
    "    region_colors = {}\n",
    "    color_map = plt.cm.tab20c\n",
    "    unique_regions = sorted(set(cell for row in puzzle for cell in row))\n",
    "    \n",
    "    for idx, region in enumerate(unique_regions):\n",
    "        region_colors[region] = color_map(idx / len(unique_regions))\n",
    "\n",
    "    for i in range(size):\n",
    "        for j in range(size):\n",
    "            region = puzzle[i][j]\n",
    "            ax.add_patch(plt.Rectangle((j, size - i - 1), 1, 1, color=region_colors[region], alpha=0.5))\n",
    "            \n",
    "            # Check integer 1 instead of string '1'\n",
    "            if solution[i][j] == 1:\n",
    "                ax.text(j + 0.5, size - i - 0.5, '★', fontsize=16, ha='center', va='center', color='black')\n",
    "\n",
    "    ax.set_xticks([])\n",
    "    ax.set_yticks([])\n",
    "    ax.set_xticklabels([])\n",
    "    ax.set_yticklabels([])\n",
    "    ax.set_xlim(0, size)\n",
    "    ax.set_ylim(0, size)\n",
    "    ax.set_frame_on(False)\n",
    "\n",
    "    plt.show()\n",
    "\n",
    "# visualize_star_battle(puzzle, solution)\n"
   ]
  },
  {
   "cell_type": "markdown",
   "metadata": {},
   "source": [
    "1.2 Constraint representations"
   ]
  },
  {
   "cell_type": "markdown",
   "metadata": {},
   "source": [
    "each row contains only k stars \n",
    "each column contains only k stars \n",
    "each region contains only k stars\n",
    "no two stars can be adjacent\n",
    "\n"
   ]
  },
  {
   "cell_type": "markdown",
   "metadata": {},
   "source": [
    "find values about puzzle"
   ]
  },
  {
   "cell_type": "code",
   "execution_count": 3,
   "metadata": {},
   "outputs": [],
   "source": [
    "def get_star_limit(grid_size):\n",
    "    if grid_size == 5:\n",
    "        return 1\n",
    "    elif grid_size == 6:\n",
    "        return 1\n",
    "    elif grid_size == 8:\n",
    "        return 1\n",
    "    elif grid_size == 10:\n",
    "        return 2\n",
    "    elif grid_size == 14:\n",
    "        return 3\n",
    "    else:\n",
    "        raise ValueError(f\"Grid size {grid_size} not supported\")"
   ]
  },
  {
   "cell_type": "markdown",
   "metadata": {},
   "source": [
    "Validate puzzles"
   ]
  },
  {
   "cell_type": "code",
   "execution_count": 4,
   "metadata": {},
   "outputs": [],
   "source": [
    "def validate_solution(puzzle,solution):\n",
    "    #get number of stars for grid size of puzzle\n",
    "    grid_size =len(puzzle)\n",
    "    star_lim = get_star_limit(grid_size)\n",
    "\n",
    "    unique_regions = set(cell for row in puzzle for cell in row)\n",
    "\n",
    "    # number of regions matches the grid size\n",
    "    if len(unique_regions) != grid_size:\n",
    "        print(\"num regions doesnt match grid size\")\n",
    "        return False\n",
    "\n",
    "    #track star counts in row, column, region\n",
    "    row_counts = np.zeros(len(puzzle), dtype = int)\n",
    "    col_counts = np.zeros(len(puzzle[0]),dtype=int)\n",
    "    region_counts = {region: 0 for region in set([item for sublist in puzzle for item in sublist])}\n",
    "\n",
    "    # check puzzle and solution dimentions match\n",
    "    if len(puzzle) != len(solution) or len(puzzle[0]) != len(solution):\n",
    "        print(\"puzle dimensions dont match\")\n",
    "        return False\n",
    "    \n",
    "    for r in range(grid_size):\n",
    "        for c in range(grid_size):\n",
    "            if solution[r][c] == '1':\n",
    "                row_counts[r]+=1\n",
    "                col_counts[c]+=1\n",
    "                region = puzzle[r][c]\n",
    "\n",
    "                #count stars in region\n",
    "                if region not in region_counts:\n",
    "                    region_counts[region]=0\n",
    "                region_counts[region]+=1\n",
    "    \n",
    "    # check each row,column,region has exactly n stars \n",
    "    if not (all(count == star_lim for count in row_counts) and\n",
    "            all(count == star_lim for count in col_counts) and\n",
    "            all(count == star_lim for count in region_counts.values())):\n",
    "        print(\"row col or region wrong no stars\")\n",
    "        return False\n",
    "    \n",
    "    #ensure stars dont touch diagnoally\n",
    "    for r in range(grid_size):\n",
    "        for c in range(grid_size):\n",
    "            if solution[r][c] == '1':\n",
    "                # check adjacent cells for stars\n",
    "                for dr in [-1, 0, 1]:\n",
    "                    for dc in [-1, 0, 1]:\n",
    "                        if dr == 0 and dc == 0:\n",
    "                            continue\n",
    "                        nr, nc = r + dr, c + dc\n",
    "                        if 0 <= nr < len(puzzle) and 0 <= nc < len(puzzle[0]):\n",
    "                            if solution[nr][nc] == '1':\n",
    "                                print(\"stars touch horizontal\")\n",
    "                                return False\n",
    "                            \n",
    "    return True"
   ]
  },
  {
   "cell_type": "code",
   "execution_count": 5,
   "metadata": {},
   "outputs": [
    {
     "ename": "NameError",
     "evalue": "name 'np' is not defined",
     "output_type": "error",
     "traceback": [
      "\u001b[1;31m---------------------------------------------------------------------------\u001b[0m",
      "\u001b[1;31mNameError\u001b[0m                                 Traceback (most recent call last)",
      "Cell \u001b[1;32mIn[5], line 2\u001b[0m\n\u001b[0;32m      1\u001b[0m \u001b[38;5;66;03m#checking this works\u001b[39;00m\n\u001b[1;32m----> 2\u001b[0m valid \u001b[38;5;241m=\u001b[39m \u001b[43mvalidate_solution\u001b[49m\u001b[43m(\u001b[49m\u001b[43mpuzzle\u001b[49m\u001b[43m,\u001b[49m\u001b[43msolution\u001b[49m\u001b[43m)\u001b[49m\n\u001b[0;32m      3\u001b[0m \u001b[38;5;28mprint\u001b[39m(\u001b[38;5;124m\"\u001b[39m\u001b[38;5;124msolution?\u001b[39m\u001b[38;5;124m\"\u001b[39m, valid)\n",
      "Cell \u001b[1;32mIn[4], line 14\u001b[0m, in \u001b[0;36mvalidate_solution\u001b[1;34m(puzzle, solution)\u001b[0m\n\u001b[0;32m     11\u001b[0m     \u001b[38;5;28;01mreturn\u001b[39;00m \u001b[38;5;28;01mFalse\u001b[39;00m\n\u001b[0;32m     13\u001b[0m \u001b[38;5;66;03m#track star counts in row, column, region\u001b[39;00m\n\u001b[1;32m---> 14\u001b[0m row_counts \u001b[38;5;241m=\u001b[39m \u001b[43mnp\u001b[49m\u001b[38;5;241m.\u001b[39mzeros(\u001b[38;5;28mlen\u001b[39m(puzzle), dtype \u001b[38;5;241m=\u001b[39m \u001b[38;5;28mint\u001b[39m)\n\u001b[0;32m     15\u001b[0m col_counts \u001b[38;5;241m=\u001b[39m np\u001b[38;5;241m.\u001b[39mzeros(\u001b[38;5;28mlen\u001b[39m(puzzle[\u001b[38;5;241m0\u001b[39m]),dtype\u001b[38;5;241m=\u001b[39m\u001b[38;5;28mint\u001b[39m)\n\u001b[0;32m     16\u001b[0m region_counts \u001b[38;5;241m=\u001b[39m {region: \u001b[38;5;241m0\u001b[39m \u001b[38;5;28;01mfor\u001b[39;00m region \u001b[38;5;129;01min\u001b[39;00m \u001b[38;5;28mset\u001b[39m([item \u001b[38;5;28;01mfor\u001b[39;00m sublist \u001b[38;5;129;01min\u001b[39;00m puzzle \u001b[38;5;28;01mfor\u001b[39;00m item \u001b[38;5;129;01min\u001b[39;00m sublist])}\n",
      "\u001b[1;31mNameError\u001b[0m: name 'np' is not defined"
     ]
    }
   ],
   "source": [
    "#checking this works\n",
    "valid = validate_solution(puzzle,solution)\n",
    "print(\"solution?\", valid)"
   ]
  },
  {
   "cell_type": "markdown",
   "metadata": {},
   "source": [
    "Some example puzzles to test "
   ]
  },
  {
   "cell_type": "code",
   "execution_count": 7,
   "metadata": {},
   "outputs": [],
   "source": [
    "#example puzzles \n",
    "puzzle_5x5 = [\n",
    "    ['A', 'B', 'C', 'D', 'E'],\n",
    "    ['A', 'B', 'C', 'D', 'F'],\n",
    "    ['A', 'B', 'C', 'G', 'F'],\n",
    "    ['A', 'H', 'C', 'G', 'F'],\n",
    "    ['I', 'H', 'C', 'G', 'F']\n",
    "]\n",
    "\n",
    "solution_5x5 = [\n",
    "    ['0', '0', '0', '1', '0'],\n",
    "    ['0', '0', '1', '0', '0'],\n",
    "    ['0', '0', '0', '0', '1'],\n",
    "    ['1', '0', '0', '0', '0'],\n",
    "    ['0', '1', '0', '0', '0']\n",
    "]\n",
    "\n",
    "puzzle_10x10 = [\n",
    "    ['A', 'B', 'C', 'D', 'E', 'F', 'G', 'H', 'I', 'J'],\n",
    "    ['A', 'B', 'C', 'D', 'E', 'F', 'G', 'H', 'I', 'J'],\n",
    "    ['A', 'B', 'C', 'D', 'E', 'F', 'G', 'H', 'I', 'J'],\n",
    "    ['A', 'B', 'C', 'D', 'E', 'F', 'G', 'H', 'I', 'J'],\n",
    "    ['A', 'B', 'C', 'D', 'E', 'F', 'G', 'H', 'I', 'J'],\n",
    "    ['A', 'B', 'C', 'D', 'E', 'F', 'G', 'H', 'I', 'J'],\n",
    "    ['A', 'B', 'C', 'D', 'E', 'F', 'G', 'H', 'I', 'J'],\n",
    "    ['A', 'B', 'C', 'D', 'E', 'F', 'G', 'H', 'I', 'J'],\n",
    "    ['A', 'B', 'C', 'D', 'E', 'F', 'G', 'H', 'I', 'J'],\n",
    "    ['A', 'B', 'C', 'D', 'E', 'F', 'G', 'H', 'I', 'J']\n",
    "]\n",
    "\n",
    "solution_10x10 = [\n",
    "    ['0', '1', '0', '0', '1', '0', '0', '0', '0', '0'],\n",
    "    ['1', '0', '0', '0', '0', '1', '0', '0', '0', '0'],\n",
    "    ['0', '0', '1', '0', '0', '0', '1', '0', '0', '0'],\n",
    "    ['0', '1', '0', '0', '0', '0', '0', '1', '0', '0'],\n",
    "    ['1', '0', '0', '1', '0', '0', '0', '0', '0', '0'],\n",
    "    ['0', '0', '0', '0', '1', '0', '1', '0', '0', '0'],\n",
    "    ['0', '0', '1', '0', '0', '0', '0', '1', '0', '0'],\n",
    "    ['1', '0', '0', '1', '0', '0', '0', '0', '0', '0'],\n",
    "    ['0', '1', '0', '0', '0', '1', '0', '0', '0', '0'],\n",
    "    ['0', '0', '1', '0', '0', '0', '0', '0', '1', '0']\n",
    "]\n",
    "\n",
    "puzzle_14x14 = [\n",
    "    ['A', 'B', 'C', 'D', 'E', 'F', 'G', 'H', 'I', 'J', 'K', 'L', 'M', 'N'],\n",
    "    ['A', 'B', 'C', 'D', 'E', 'F', 'G', 'H', 'I', 'J', 'K', 'L', 'M', 'N'],\n",
    "    ['A', 'B', 'C', 'D', 'E', 'F', 'G', 'H', 'I', 'J', 'K', 'L', 'M', 'N'],\n",
    "    ['A', 'B', 'C', 'D', 'E', 'F', 'G', 'H', 'I', 'J', 'K', 'L', 'M', 'N'],\n",
    "    ['A', 'B', 'C', 'D', 'E', 'F', 'G', 'H', 'I', 'J', 'K', 'L', 'M', 'N'],\n",
    "    ['A', 'B', 'C', 'D', 'E', 'F', 'G', 'H', 'I', 'J', 'K', 'L', 'M', 'N'],\n",
    "    ['A', 'B', 'C', 'D', 'E', 'F', 'G', 'H', 'I', 'J', 'K', 'L', 'M', 'N'],\n",
    "    ['A', 'B', 'C', 'D', 'E', 'F', 'G', 'H', 'I', 'J', 'K', 'L', 'M', 'N'],\n",
    "    ['A', 'B', 'C', 'D', 'E', 'F', 'G', 'H', 'I', 'J', 'K', 'L', 'M', 'N'],\n",
    "    ['A', 'B', 'C', 'D', 'E', 'F', 'G', 'H', 'I', 'J', 'K', 'L', 'M', 'N'],\n",
    "    ['A', 'B', 'C', 'D', 'E', 'F', 'G', 'H', 'I', 'J', 'K', 'L', 'M', 'N'],\n",
    "    ['A', 'B', 'C', 'D', 'E', 'F', 'G', 'H', 'I', 'J', 'K', 'L', 'M', 'N'],\n",
    "    ['A', 'B', 'C', 'D', 'E', 'F', 'G', 'H', 'I', 'J', 'K', 'L', 'M', 'N'],\n",
    "    ['A', 'B', 'C', 'D', 'E', 'F', 'G', 'H', 'I', 'J', 'K', 'L', 'M', 'N'],\n",
    "]\n",
    "\n",
    "solution_14x14 = [\n",
    "    ['0', '0', '1', '0', '0', '0', '1', '0', '0', '1', '0', '0', '0', '0'],\n",
    "    ['0', '1', '0', '0', '0', '1', '0', '0', '1', '0', '0', '0', '1', '0'],\n",
    "    ['1', '0', '0', '1', '0', '0', '0', '0', '1', '0', '0', '0', '0', '0'],\n",
    "    ['0', '0', '0', '0', '0', '1', '0', '1', '0', '1', '0', '0', '0', '0'],\n",
    "    ['1', '0', '1', '0', '0', '0', '0', '1', '0', '0', '1', '0', '0', '0'],\n",
    "    ['0', '1', '0', '0', '1', '0', '0', '0', '0', '1', '1', '0', '0', '0'],\n",
    "    ['0', '0', '1', '0', '0', '0', '0', '1', '0', '1', '0', '0', '0', '0'],\n",
    "    ['0', '1', '0', '0', '0', '0', '1', '0', '0', '0', '0', '1', '0', '0'],\n",
    "    ['1', '0', '0', '0', '1', '0', '0', '0', '0', '0', '1', '0', '1', '0'],\n",
    "    ['0', '1', '0', '1', '0', '0', '0', '0', '1', '0', '0', '1', '0', '0'],\n",
    "    ['1', '0', '0', '0', '0', '0', '1', '1', '0', '0', '1', '0', '0', '0'],\n",
    "    ['0', '0', '0', '1', '1', '0', '0', '0', '1', '0', '1', '0', '0', '0'],\n",
    "    ['0', '0', '1', '0', '0', '0', '0', '1', '0', '0', '1', '0', '0', '0'],\n",
    "    ['1', '0', '0', '0', '1', '1', '0', '0', '0', '0', '0', '0', '0', '0']\n",
    "]\n"
   ]
  },
  {
   "cell_type": "code",
   "execution_count": 8,
   "metadata": {},
   "outputs": [
    {
     "name": "stdout",
     "output_type": "stream",
     "text": [
      "num regions doesnt match grid size\n",
      "row col or region wrong no stars\n",
      "row col or region wrong no stars\n",
      "False False False\n"
     ]
    }
   ],
   "source": [
    "print(validate_solution(puzzle_5x5,solution_5x5),\n",
    "      validate_solution(puzzle_10x10, solution_10x10),\n",
    "      validate_solution(puzzle_14x14, solution_14x14))"
   ]
  },
  {
   "cell_type": "markdown",
   "metadata": {},
   "source": [
    "1.3 Basic Generation Algorithm "
   ]
  },
  {
   "cell_type": "code",
   "execution_count": 9,
   "metadata": {},
   "outputs": [],
   "source": [
    "def validate_stars(grid, star_lim):\n",
    "    size = len(grid)\n",
    "    \n",
    "    # Check each column has exact num stars\n",
    "    if not all(np.sum(grid[:, col]) == star_lim for col in range(size)):\n",
    "        return False\n",
    "\n",
    "    # Check no adjacent stars\n",
    "    for r in range(size):\n",
    "        for c in range(size):\n",
    "            if grid[r, c] == 1:\n",
    "                #directons orthogonal\n",
    "                for dr in [-1, 0, 1]:\n",
    "                    for dc in [-1, 0, 1]:\n",
    "                        if (dr == 0 and dc == 0) or not (0 <= r + dr < size and 0 <= c + dc < size):\n",
    "                            continue\n",
    "                        if grid[r + dr, c + dc] == 1:\n",
    "                            return False\n",
    "    return True"
   ]
  },
  {
   "cell_type": "code",
   "execution_count": 10,
   "metadata": {},
   "outputs": [],
   "source": [
    "def adjacent_star(grid, r, c):\n",
    "    size = len(grid)\n",
    "    for dr in [-1, 0, 1]:\n",
    "        for dc in [-1, 0, 1]:\n",
    "            if dr == 0 and dc == 0:\n",
    "                continue\n",
    "            nr, nc = r + dr, c + dc\n",
    "            if 0 <= nr < size and 0 <= nc < size and grid[nr, nc] == 1:\n",
    "                return True\n",
    "    return False"
   ]
  },
  {
   "cell_type": "code",
   "execution_count": 11,
   "metadata": {},
   "outputs": [],
   "source": [
    "#start\n",
    "def generate_star_solution(size):\n",
    "    star_lim = get_star_limit(size)\n",
    "    grid = np.zeros((size, size), dtype=int)\n",
    "\n",
    "    # available positions per column to check exact star limits\n",
    "    column_counts = [0] * size\n",
    "    \n",
    "    for row in range(size):\n",
    "        valid_positions = list(range(size))\n",
    "        random.shuffle(valid_positions)  \n",
    "        stars_placed = 0\n",
    "\n",
    "        for col in valid_positions:\n",
    "            # check column limit and adjacency\n",
    "            if column_counts[col] < star_lim and not adjacent_star(grid, row, col):\n",
    "                grid[row, col] = 1\n",
    "                column_counts[col] += 1\n",
    "                stars_placed += 1\n",
    "                if stars_placed == star_lim:\n",
    "                    break\n",
    "\n",
    "    # validate\n",
    "    if not validate_stars(grid, star_lim):\n",
    "        return generate_star_solution(size)  # Retry in rare failure cases\n",
    "\n",
    "    return grid"
   ]
  },
  {
   "cell_type": "code",
   "execution_count": null,
   "metadata": {},
   "outputs": [
    {
     "name": "stdout",
     "output_type": "stream",
     "text": [
      "[[0 0 1 0 0]\n",
      " [0 0 0 0 1]\n",
      " [0 1 0 0 0]\n",
      " [0 0 0 1 0]\n",
      " [1 0 0 0 0]]\n"
     ]
    }
   ],
   "source": [
    "# check first secton\n",
    "solution1 = generate_star_solution(5)\n",
    "\n",
    "print(solution1)\n"
   ]
  },
  {
   "cell_type": "markdown",
   "metadata": {},
   "source": [
    "regions"
   ]
  },
  {
   "cell_type": "code",
   "execution_count": null,
   "metadata": {},
   "outputs": [],
   "source": [
    "def generate_regions(solution):\n",
    "    grid_size = solution.shape[0]\n",
    "\n",
    "    # get star positions\n",
    "    stars = [(r, c) for r in range(grid_size) for c in range(grid_size) if solution[r, c] == 1]\n",
    "\n",
    "    # initialize region map with -1 (unassigned cells)\n",
    "    region_map = -np.ones((grid_size, grid_size), dtype=int)\n",
    "\n",
    "    # directions in order left, right, up, down\n",
    "    directions = [(-1, 0), (1, 0), (0, -1), (0, 1)]\n",
    "\n",
    "    # assign each star a unique region number and initialize expansion queue\n",
    "    expansion_queue = []\n",
    "    for region_id, (r, c) in enumerate(stars):\n",
    "        region_map[r, c] = region_id\n",
    "        expansion_queue.append((r, c, region_id))  # (row, col, region_id)\n",
    "\n",
    "    # list to store expanded cells to revisit when no further expansion is possible\n",
    "    expansion_history = expansion_queue.copy()\n",
    "\n",
    "    while expansion_queue:\n",
    "        new_queue = []\n",
    "        \n",
    "        for r, c, region_id in expansion_queue:\n",
    "            for dr, dc in directions:\n",
    "                nr, nc = r + dr, c + dc  # Compute new row/col\n",
    "\n",
    "                if 0 <= nr < grid_size and 0 <= nc < grid_size and region_map[nr, nc] == -1:\n",
    "                    # assign the region and add to new expansion queue\n",
    "                    region_map[nr, nc] = region_id\n",
    "                    new_queue.append((nr, nc, region_id))\n",
    "                    expansion_history.append((nr, nc, region_id))  # store for fallback expansion\n",
    "\n",
    "        # if no new cells were expanded, revisit earlier expanded cells\n",
    "        if not new_queue and expansion_history:\n",
    "            new_queue = expansion_history.copy()\n",
    "            expansion_history.clear()\n",
    "\n",
    "        expansion_queue = new_queue\n",
    "\n",
    "    # convert numeric regions to lettered regions\n",
    "    unique_regions = np.unique(region_map)\n",
    "    region_map_dict = {val: chr(65 + i) for i, val in enumerate(unique_regions)}\n",
    "    lettered_regions = np.array([[region_map_dict[val] for val in row] for row in region_map])\n",
    "\n",
    "    return lettered_regions"
   ]
  },
  {
   "cell_type": "code",
   "execution_count": null,
   "metadata": {},
   "outputs": [
    {
     "name": "stdout",
     "output_type": "stream",
     "text": [
      "[[0 0 1 0 0]\n",
      " [0 0 0 0 1]\n",
      " [0 1 0 0 0]\n",
      " [0 0 0 1 0]\n",
      " [1 0 0 0 0]]\n",
      "[[0 0 1 0 0]\n",
      " [0 0 0 0 1]\n",
      " [0 1 0 0 0]\n",
      " [0 0 0 1 0]\n",
      " [1 0 0 0 0]]\n"
     ]
    }
   ],
   "source": [
    "print(solution1)\n",
    "solution1 = np.array(solution1,dtype=int)\n",
    "print(solution1)"
   ]
  },
  {
   "cell_type": "code",
   "execution_count": null,
   "metadata": {},
   "outputs": [
    {
     "name": "stdout",
     "output_type": "stream",
     "text": [
      "[['A' 'A' 'A' 'A' 'B']\n",
      " ['C' 'C' 'A' 'B' 'B']\n",
      " ['C' 'C' 'C' 'D' 'B']\n",
      " ['E' 'C' 'D' 'D' 'D']\n",
      " ['E' 'E' 'D' 'D' 'D']]\n",
      "[[0 0 1 0 0]\n",
      " [0 0 0 0 1]\n",
      " [0 1 0 0 0]\n",
      " [0 0 0 1 0]\n",
      " [1 0 0 0 0]]\n"
     ]
    }
   ],
   "source": [
    "puzzle1 = generate_regions(solution1)\n",
    "print(puzzle1)\n",
    "print(solution1)"
   ]
  },
  {
   "cell_type": "markdown",
   "metadata": {},
   "source": [
    "trying new for 10x10 and 14x14"
   ]
  },
  {
   "cell_type": "markdown",
   "metadata": {},
   "source": [
    "version 3"
   ]
  },
  {
   "cell_type": "code",
   "execution_count": null,
   "metadata": {},
   "outputs": [],
   "source": [
    "def group_stars(stars, stars_per_region):\n",
    "        # unction to group stars into regions\n",
    "        star_set = set(stars)  # Set for faster lookup\n",
    "        grouped_stars = set()\n",
    "        star_groups = []\n",
    "\n",
    "        def find_group(start):\n",
    "            \"\"\"Finds the nearest ungrouped stars to `start`, up to `stars_per_region`.\"\"\"\n",
    "            queue = deque([start])\n",
    "            current_group = []\n",
    "            visited = set()  # doesnt revisit stars\n",
    "\n",
    "            while queue and len(current_group) < stars_per_region:\n",
    "                r, c = queue.popleft()\n",
    "                if (r, c) in grouped_stars or (r, c) in visited:\n",
    "                    continue\n",
    "\n",
    "                current_group.append((r, c))\n",
    "                grouped_stars.add((r, c))\n",
    "                visited.add((r, c))\n",
    "\n",
    "                # Find all ungrouped stars sorted by Manhattan distance\n",
    "                ungrouped_stars = [s for s in star_set if s not in grouped_stars]\n",
    "                ungrouped_stars.sort(key=lambda s: abs(s[0] - r) + abs(s[1] - c))\n",
    "\n",
    "                # Add nearest stars to the queue\n",
    "                queue.extend(ungrouped_stars[:stars_per_region - len(current_group)])\n",
    "\n",
    "            return current_group\n",
    "\n",
    "        # Group stars until all are grouped\n",
    "        for start_star in stars:\n",
    "            if start_star not in grouped_stars:\n",
    "                star_groups.append(find_group(start_star))\n",
    "\n",
    "        return star_groups"
   ]
  },
  {
   "cell_type": "code",
   "execution_count": null,
   "metadata": {},
   "outputs": [],
   "source": [
    "def bfs_shortest_path(start, end, grid_size, region_map):\n",
    "    directions = [(-1, 0), (1, 0), (0, -1), (0, 1)]\n",
    "    queue = deque([(start, [start])])\n",
    "    visited = set([start])\n",
    "    \n",
    "    while queue:\n",
    "        (r, c), path = queue.popleft()\n",
    "        \n",
    "        # if end reached, return path\n",
    "        if (r, c) == end:\n",
    "            return path\n",
    "        \n",
    "        for dr, dc in directions:\n",
    "            nr, nc = r + dr, c + dc\n",
    "            if 0 <= nr < grid_size and 0 <= nc < grid_size and (nr, nc) not in visited and region_map[nr, nc] == -1:\n",
    "                visited.add((nr, nc))\n",
    "                queue.append(((nr, nc), path + [(nr, nc)]))\n",
    "    \n",
    "    return []  # Return empty if no path found\n",
    "\n",
    "def generate_regions3(solution):\n",
    "    grid_size = solution.shape[0]\n",
    "    \n",
    "    # Determine required stars per region\n",
    "    per_region = get_star_limit(grid_size)\n",
    "    \n",
    "    # Get star positions\n",
    "    stars = [(r, c) for r in range(grid_size) for c in range(grid_size) if solution[r, c] == 1]\n",
    "\n",
    "    # Ensure valid division of stars\n",
    "    assert len(stars) % per_region == 0, \"Star count must be divisible by stars_per_region!\"\n",
    "\n",
    "    # Initialize region map with -1 (unassigned)\n",
    "    region_map = -np.ones((grid_size, grid_size), dtype=int)\n",
    "\n",
    "    # Group stars into valid sets\n",
    "    star_groups = group_stars(stars, per_region)\n",
    "\n",
    "    expansion_queue = []\n",
    "    region_id = 0\n",
    "\n",
    "    for star_group in star_groups:\n",
    "        # Connect all stars in the group using BFS\n",
    "        visited = set()\n",
    "        \n",
    "        # Start by connecting the first star in the group with the others\n",
    "        for i, start in enumerate(star_group):\n",
    "            for end in star_group[i + 1:]:\n",
    "                # Find the shortest path between start and end\n",
    "                path = bfs_shortest_path(start, end, grid_size, region_map)\n",
    "                if path:\n",
    "                    for r, c in path:\n",
    "                        region_map[r, c] = region_id  # Assign to the region\n",
    "                        visited.add((r, c))\n",
    "\n",
    "        # Add stars to the expansion queue for later region growth\n",
    "        for r, c in visited:\n",
    "            expansion_queue.append(((r, c), region_id))  # Expand from all connected cells\n",
    "\n",
    "        region_id += 1\n",
    "\n",
    "    # Store expanded cells to revisit when no further expansion is possible\n",
    "    expansion_history = expansion_queue.copy()\n",
    "\n",
    "    # Expand the regions\n",
    "    while expansion_queue:\n",
    "        new_queue = []\n",
    "\n",
    "        for (r, c), region_id in expansion_queue:\n",
    "            for dr, dc in [(-1, 0), (1, 0), (0, -1), (0, 1)]:\n",
    "                nr, nc = r + dr, c + dc\n",
    "\n",
    "                if 0 <= nr < grid_size and 0 <= nc < grid_size and region_map[nr, nc] == -1:\n",
    "                    # Assign the region and add to new expansion queue\n",
    "                    region_map[nr, nc] = region_id\n",
    "                    new_queue.append(((nr, nc), region_id))\n",
    "                    expansion_history.append(((nr, nc), region_id))\n",
    "\n",
    "        # If no new cells were expanded, revisit earlier expanded cells\n",
    "        if not new_queue and expansion_history:\n",
    "            new_queue = expansion_history.copy()\n",
    "            expansion_history.clear()\n",
    "\n",
    "        expansion_queue = new_queue\n",
    "\n",
    "    # Convert numeric regions to lettered regions\n",
    "    unique_regions = np.unique(region_map)\n",
    "    region_map_dict = {val: chr(65 + i) for i, val in enumerate(unique_regions)}\n",
    "    lettered_regions = np.array([[region_map_dict[val] for val in row] for row in region_map])\n",
    "\n",
    "    return lettered_regions\n"
   ]
  },
  {
   "cell_type": "code",
   "execution_count": null,
   "metadata": {},
   "outputs": [
    {
     "data": {
      "image/png": "[encoded data removed]",
      "text/plain": [
       "<Figure size 500x500 with 1 Axes>"
      ]
     },
     "metadata": {},
     "output_type": "display_data"
    }
   ],
   "source": [
    "solution5 = generate_star_solution(5)\n",
    "puzzle5 = generate_regions(solution5)\n",
    "visualize_star_battle(puzzle5, solution5)"
   ]
  },
  {
   "cell_type": "code",
   "execution_count": null,
   "metadata": {},
   "outputs": [
    {
     "name": "stdout",
     "output_type": "stream",
     "text": [
      "[['A' 'A' 'A' 'A' 'C' 'B' 'B' 'B' 'D' 'D']\n",
      " ['A' 'A' 'A' 'A' 'C' 'B' 'B' 'B' 'D' 'D']\n",
      " ['A' 'A' 'A' 'A' 'C' 'B' 'B' 'B' 'D' 'D']\n",
      " ['A' 'A' 'A' 'C' 'C' 'C' 'B' 'D' 'D' 'D']\n",
      " ['E' 'E' 'E' 'C' 'C' 'F' 'F' 'G' 'D' 'D']\n",
      " ['E' 'E' 'E' 'E' 'E' 'F' 'F' 'G' 'G' 'D']\n",
      " ['H' 'E' 'E' 'E' 'F' 'F' 'F' 'G' 'G' 'G']\n",
      " ['H' 'H' 'I' 'I' 'I' 'F' 'G' 'G' 'G' 'G']\n",
      " ['H' 'H' 'I' 'I' 'I' 'I' 'G' 'G' 'G' 'J']\n",
      " ['H' 'H' 'I' 'I' 'I' 'I' 'J' 'J' 'J' 'J']]\n",
      "[[0 0 1 0 0 0 1 0 0 0]\n",
      " [0 0 0 0 1 0 0 0 1 0]\n",
      " [0 1 0 0 0 0 1 0 0 0]\n",
      " [0 0 0 1 0 0 0 0 0 1]\n",
      " [0 1 0 0 0 1 0 0 0 0]\n",
      " [0 0 0 1 0 0 0 1 0 0]\n",
      " [1 0 0 0 0 1 0 0 0 0]\n",
      " [0 0 1 0 0 0 0 0 1 0]\n",
      " [1 0 0 0 1 0 0 0 0 0]\n",
      " [0 0 0 0 0 0 0 1 0 1]]\n"
     ]
    },
    {
     "data": {
      "image/png": "[encoded data removed]",
      "text/plain": [
       "<Figure size 500x500 with 1 Axes>"
      ]
     },
     "metadata": {},
     "output_type": "display_data"
    }
   ],
   "source": [
    "solution10 = generate_star_solution(10)\n",
    "puzzle10 = generate_regions3(solution10)\n",
    "print(puzzle10)\n",
    "print(solution10)\n",
    "visualize_star_battle(puzzle10, solution10)\n"
   ]
  },
  {
   "cell_type": "code",
   "execution_count": null,
   "metadata": {},
   "outputs": [
    {
     "name": "stdout",
     "output_type": "stream",
     "text": [
      "[['C' 'C' 'C' 'A' 'A' 'A' 'A' 'A' 'D' 'B' 'B' 'B' 'B' 'B']\n",
      " ['C' 'C' 'C' 'A' 'A' 'A' 'A' 'D' 'D' 'B' 'B' 'B' 'B' 'B']\n",
      " ['C' 'C' 'C' 'C' 'A' 'A' 'A' 'D' 'D' 'B' 'B' 'B' 'B' 'B']\n",
      " ['C' 'C' 'C' 'C' 'A' 'A' 'D' 'D' 'D' 'D' 'B' 'E' 'E' 'E']\n",
      " ['G' 'C' 'F' 'F' 'F' 'F' 'F' 'D' 'D' 'E' 'E' 'E' 'E' 'E']\n",
      " ['G' 'G' 'F' 'F' 'F' 'F' 'D' 'D' 'D' 'D' 'E' 'E' 'E' 'E']\n",
      " ['G' 'G' 'F' 'F' 'H' 'H' 'H' 'D' 'D' 'I' 'I' 'I' 'E' 'E']\n",
      " ['G' 'G' 'F' 'F' 'H' 'H' 'H' 'J' 'I' 'I' 'I' 'I' 'I' 'E']\n",
      " ['G' 'G' 'G' 'H' 'H' 'J' 'J' 'J' 'I' 'I' 'I' 'I' 'K' 'K']\n",
      " ['G' 'G' 'G' 'H' 'H' 'J' 'J' 'J' 'I' 'I' 'I' 'K' 'K' 'K']\n",
      " ['G' 'G' 'M' 'H' 'J' 'J' 'L' 'L' 'I' 'I' 'I' 'K' 'K' 'K']\n",
      " ['M' 'M' 'M' 'M' 'L' 'J' 'L' 'L' 'L' 'I' 'K' 'K' 'N' 'N']\n",
      " ['M' 'M' 'M' 'L' 'L' 'L' 'L' 'L' 'L' 'N' 'N' 'N' 'N' 'N']\n",
      " ['M' 'M' 'M' 'M' 'L' 'L' 'L' 'L' 'N' 'N' 'N' 'N' 'N' 'N']]\n",
      "[[0 0 0 0 1 0 1 0 0 0 1 0 0 0]\n",
      " [0 1 0 0 0 0 0 0 1 0 0 0 1 0]\n",
      " [0 0 0 1 0 1 0 0 0 0 1 0 0 0]\n",
      " [0 1 0 0 0 0 0 0 1 0 0 0 1 0]\n",
      " [0 0 0 1 0 0 1 0 0 0 1 0 0 0]\n",
      " [1 0 0 0 0 0 0 0 1 0 0 0 0 1]\n",
      " [0 0 1 0 1 0 1 0 0 0 0 0 0 0]\n",
      " [1 0 0 0 0 0 0 0 0 1 0 1 0 0]\n",
      " [0 0 0 1 0 1 0 1 0 0 0 0 0 0]\n",
      " [0 1 0 0 0 0 0 0 0 0 0 1 0 1]\n",
      " [0 0 0 0 0 1 0 1 0 1 0 0 0 0]\n",
      " [0 0 1 0 0 0 0 0 0 0 0 1 0 1]\n",
      " [1 0 0 0 1 0 0 1 0 0 0 0 0 0]\n",
      " [0 0 1 0 0 0 0 0 0 1 0 0 1 0]]\n"
     ]
    },
    {
     "data": {
      "image/png": "[encoded data removed]",
      "text/plain": [
       "<Figure size 500x500 with 1 Axes>"
      ]
     },
     "metadata": {},
     "output_type": "display_data"
    }
   ],
   "source": [
    "solution14 = generate_star_solution(14)\n",
    "puzzle14 = generate_regions3(solution14)\n",
    "print(puzzle14)\n",
    "print(solution14)\n",
    "visualize_star_battle(puzzle14, solution14)\n"
   ]
  },
  {
   "cell_type": "code",
   "execution_count": null,
   "metadata": {},
   "outputs": [
    {
     "name": "stdout",
     "output_type": "stream",
     "text": [
      "row col or region wrong no stars\n",
      "the solution is False\n"
     ]
    }
   ],
   "source": [
    "print(f\"the solution is {validate_solution(puzzle14, puzzle14)}\")"
   ]
  },
  {
   "cell_type": "markdown",
   "metadata": {},
   "source": [
    "## new method works better"
   ]
  },
  {
   "cell_type": "code",
   "execution_count": 4,
   "metadata": {},
   "outputs": [],
   "source": [
    "def layout(grid_size=10, num_regions=10):\n",
    "# random region layout with minimum 3 cells in a region\n",
    "    grid = np.full((grid_size, grid_size), -1) \n",
    "\n",
    "    # place initial 3 cell regions\n",
    "    region_seeds = [] \n",
    "    used_positions = set()  # to avoid overlapping regions\n",
    "\n",
    "    for i in range(num_regions):\n",
    "        while True:\n",
    "            # Pick a random starting cell\n",
    "            r, c = random.randint(0, grid_size - 1), random.randint(0, grid_size - 1)\n",
    "            direction = random.choice([(0, 1), (1, 0)])  # (0,1) = horizontal, (1,0) = vertical\n",
    "\n",
    "            # compute 3-cell region\n",
    "            cells = [(r + direction[0] * j, c + direction[1] * j) for j in range(3)]\n",
    "\n",
    "            # checks all cells are within bounds and not overlapping\n",
    "            if all(0 <= nr < grid_size and 0 <= nc < grid_size and (nr, nc) not in used_positions for nr, nc in cells):\n",
    "                for nr, nc in cells:\n",
    "                    grid[nr, nc] = i  # assigns region ID\n",
    "                    used_positions.add((nr, nc))\n",
    "                    region_seeds.append((nr, nc))  # adds each part of the seed for later expansion\n",
    "                break  # exits loop when valid seed region is found\n",
    "\n",
    "    # expands all regions with flood fill\n",
    "    def get_neighbors(r, c):\n",
    "        neighbors = []\n",
    "        for dr, dc in [(-1, 0), (1, 0), (0, -1), (0, 1)]:\n",
    "            nr, nc = r + dr, c + dc\n",
    "            if 0 <= nr < grid_size and 0 <= nc < grid_size and grid[nr, nc] == -1:\n",
    "                neighbors.append((nr, nc))\n",
    "        return neighbors\n",
    "\n",
    "    cells_to_expand = region_seeds[:]  # start expanding from the initial 3-cell regions\n",
    "    while cells_to_expand:\n",
    "        r, c = cells_to_expand.pop(random.randint(0, len(cells_to_expand) - 1))\n",
    "        neighbors = get_neighbors(r, c)\n",
    "        if neighbors:\n",
    "            random.shuffle(neighbors)\n",
    "            for nr, nc in neighbors:\n",
    "                grid[nr, nc] = grid[r, c]  # expand current region\n",
    "                cells_to_expand.append((nr, nc))  # continue expansion\n",
    "\n",
    "    return grid"
   ]
  },
  {
   "cell_type": "code",
   "execution_count": 6,
   "metadata": {},
   "outputs": [
    {
     "name": "stdout",
     "output_type": "stream",
     "text": [
      "[[5 5 7 3 3 3 3 3 3 3]\n",
      " [5 7 7 3 3 3 3 3 3 3]\n",
      " [5 7 7 3 3 2 3 3 3 3]\n",
      " [7 7 7 7 8 2 2 2 3 0]\n",
      " [7 7 8 8 8 2 2 0 0 0]\n",
      " [4 4 2 2 2 2 2 0 0 0]\n",
      " [4 4 2 2 2 2 0 0 0 6]\n",
      " [4 4 4 2 0 0 0 0 0 6]\n",
      " [4 4 2 2 9 1 1 1 1 6]\n",
      " [4 4 9 9 9 9 1 1 6 6]]\n"
     ]
    }
   ],
   "source": [
    "print(layout())"
   ]
  },
  {
   "cell_type": "markdown",
   "metadata": {},
   "source": [
    "check if the random regions are a solvable star battle"
   ]
  },
  {
   "cell_type": "code",
   "execution_count": 7,
   "metadata": {},
   "outputs": [],
   "source": [
    "def puzzle_solver(puzzle: np.ndarray):\n",
    "    height, width = puzzle.shape\n",
    "    assert height == 10 and width == 10, \"Puzzle must be a 10x10 grid\"\n",
    "\n",
    "    # Create a 10x10 grid of integer variables\n",
    "    grid = [[z3.Int(f\"grid_{i}_{j}\") for j in range(10)] for i in range(10)]\n",
    "\n",
    "    def solve_with_constraints(extra_constraints=[]):\n",
    "        solver = z3.Solver()\n",
    "\n",
    "        # Each cell can be either 0 (empty) or 1 (star)\n",
    "        for i in range(10):\n",
    "            for j in range(10):\n",
    "                solver.add(z3.Or(grid[i][j] == 0, grid[i][j] == 1))\n",
    "\n",
    "        # Each row must contain exactly 2 stars\n",
    "        for i in range(10):\n",
    "            solver.add(z3.Sum([grid[i][j] for j in range(10)]) == 2)\n",
    "\n",
    "        # Each column must contain exactly 2 stars\n",
    "        for j in range(10):\n",
    "            solver.add(z3.Sum([grid[i][j] for i in range(10)]) == 2)\n",
    "\n",
    "        # Each region must contain exactly 2 stars\n",
    "        num_regions = np.max(puzzle) + 1\n",
    "        for region_id in range(num_regions):\n",
    "            region_cells = [grid[i][j] for i in range(10) for j in range(10) if puzzle[i, j] == region_id]\n",
    "            solver.add(z3.Sum(region_cells) == 2)\n",
    "\n",
    "        # No adjacent stars (orthogonally or diagonally)\n",
    "        for i in range(10):\n",
    "            for j in range(10):\n",
    "                neighbors = [\n",
    "                    (i - 1, j), (i + 1, j), (i, j - 1), (i, j + 1),  # Orthogonal\n",
    "                    (i - 1, j - 1), (i - 1, j + 1), (i + 1, j - 1), (i + 1, j + 1)  # Diagonal\n",
    "                ]\n",
    "                for ni, nj in neighbors:\n",
    "                    if 0 <= ni < 10 and 0 <= nj < 10:\n",
    "                        solver.add(z3.Or(grid[i][j] == 0, grid[ni][nj] == 0))\n",
    "\n",
    "        # Apply additional constraints if provided\n",
    "        for constraint in extra_constraints:\n",
    "            solver.add(constraint)\n",
    "\n",
    "        # Solve the puzzle\n",
    "        if solver.check() == z3.sat:\n",
    "            model = solver.model()\n",
    "            solution = np.array([[model[grid[i][j]].as_long() for j in range(10)] for i in range(10)])\n",
    "            return solution, model\n",
    "        else:\n",
    "            return None, None  # No solution found\n",
    "\n",
    "    # Solve once to get a solution\n",
    "    solution, model = solve_with_constraints()\n",
    "    if solution is None:\n",
    "        return None  # No solution exists\n",
    "\n",
    "    # Add a constraint to block this solution\n",
    "    block_solution = z3.Or([grid[i][j] != model[grid[i][j]] for i in range(10) for j in range(10)])\n",
    "\n",
    "    # Solve again to check if another solution exists\n",
    "    _, second_model = solve_with_constraints([block_solution])\n",
    "\n",
    "    if second_model is not None:\n",
    "        return None  # More than one solution exists\n",
    "\n",
    "    return solution  # Unique solution found\n"
   ]
  },
  {
   "cell_type": "code",
   "execution_count": 8,
   "metadata": {},
   "outputs": [
    {
     "name": "stdout",
     "output_type": "stream",
     "text": [
      "None\n",
      "\n",
      "Solvable layout found!\n",
      "Puzzle layout:\n",
      "[[1 1 9 9 5 5 5 5 5 4]\n",
      " [1 1 9 9 9 5 5 5 4 4]\n",
      " [1 1 1 9 5 5 5 5 8 4]\n",
      " [7 1 1 1 1 5 5 8 8 4]\n",
      " [7 1 1 1 6 6 6 8 8 4]\n",
      " [7 1 1 2 6 6 6 8 8 8]\n",
      " [2 2 2 2 6 6 6 6 0 8]\n",
      " [2 2 2 3 6 6 6 6 0 0]\n",
      " [2 2 3 3 6 6 6 0 0 0]\n",
      " [3 3 3 3 6 6 6 0 0 0]]\n",
      "\n",
      "Solved puzzle:\n",
      "[[0 0 0 0 0 0 1 0 0 1]\n",
      " [0 0 1 0 1 0 0 0 0 0]\n",
      " [0 0 0 0 0 0 1 0 1 0]\n",
      " [1 0 0 0 1 0 0 0 0 0]\n",
      " [0 0 1 0 0 0 0 0 0 1]\n",
      " [1 0 0 0 0 0 0 1 0 0]\n",
      " [0 0 0 1 0 1 0 0 0 0]\n",
      " [0 1 0 0 0 0 0 0 1 0]\n",
      " [0 0 0 1 0 1 0 0 0 0]\n",
      " [0 1 0 0 0 0 0 1 0 0]]\n"
     ]
    }
   ],
   "source": [
    "layout1 = layout()\n",
    "solution = puzzle_solver(layout1)\n",
    "print(solution)\n",
    "\n",
    "while True:\n",
    "    puzzle = layout()\n",
    "    solution = puzzle_solver(puzzle)\n",
    "    if solution is not None:\n",
    "        print(\"\\nSolvable layout found!\")\n",
    "        print(\"Puzzle layout:\")\n",
    "        print(puzzle)\n",
    "        print(\"\\nSolved puzzle:\")\n",
    "        print(solution)\n",
    "        break  # Exit loop when a solvable layout is found\n",
    "\n"
   ]
  },
  {
   "cell_type": "code",
   "execution_count": 9,
   "metadata": {},
   "outputs": [
    {
     "name": "stdout",
     "output_type": "stream",
     "text": [
      "[[1 1 9 9 5 5 5 5 5 4]\n",
      " [1 1 9 9 9 5 5 5 4 4]\n",
      " [1 1 1 9 5 5 5 5 8 4]\n",
      " [7 1 1 1 1 5 5 8 8 4]\n",
      " [7 1 1 1 6 6 6 8 8 4]\n",
      " [7 1 1 2 6 6 6 8 8 8]\n",
      " [2 2 2 2 6 6 6 6 0 8]\n",
      " [2 2 2 3 6 6 6 6 0 0]\n",
      " [2 2 3 3 6 6 6 0 0 0]\n",
      " [3 3 3 3 6 6 6 0 0 0]]\n",
      "[[0 0 0 0 0 0 1 0 0 1]\n",
      " [0 0 1 0 1 0 0 0 0 0]\n",
      " [0 0 0 0 0 0 1 0 1 0]\n",
      " [1 0 0 0 1 0 0 0 0 0]\n",
      " [0 0 1 0 0 0 0 0 0 1]\n",
      " [1 0 0 0 0 0 0 1 0 0]\n",
      " [0 0 0 1 0 1 0 0 0 0]\n",
      " [0 1 0 0 0 0 0 0 1 0]\n",
      " [0 0 0 1 0 1 0 0 0 0]\n",
      " [0 1 0 0 0 0 0 1 0 0]]\n"
     ]
    }
   ],
   "source": [
    "print(puzzle)\n",
    "print(solution)\n"
   ]
  },
  {
   "cell_type": "code",
   "execution_count": null,
   "metadata": {},
   "outputs": [
    {
     "ename": "NameError",
     "evalue": "name 'visualize_star_battle' is not defined",
     "output_type": "error",
     "traceback": [
      "\u001b[1;31m---------------------------------------------------------------------------\u001b[0m",
      "\u001b[1;31mNameError\u001b[0m                                 Traceback (most recent call last)",
      "Cell \u001b[1;32mIn[8], line 1\u001b[0m\n\u001b[1;32m----> 1\u001b[0m \u001b[43mvisualize_star_battle\u001b[49m(puzzle, solution)\n",
      "\u001b[1;31mNameError\u001b[0m: name 'visualize_star_battle' is not defined"
     ]
    }
   ],
   "source": [
    "visualize_star_battle(puzzle, solution)"
   ]
  },
  {
   "cell_type": "markdown",
   "metadata": {},
   "source": [
    "1.4 Storing and compiling puzzles"
   ]
  },
  {
   "cell_type": "code",
   "execution_count": 27,
   "metadata": {},
   "outputs": [
    {
     "name": "stdout",
     "output_type": "stream",
     "text": [
      "Collected 1 puzzles...\n",
      "Dataset saved successfully!\n"
     ]
    }
   ],
   "source": [
    "num_puzzles = 1\n",
    "puzzles = []\n",
    "solutions = []\n",
    "unique_puzzles = set()\n",
    "\n",
    "while len(puzzles) < num_puzzles:\n",
    "    layout1 = layout()\n",
    "    solution = puzzle_solver(layout1)\n",
    "    \n",
    "    if solution is not None:\n",
    "        layout_str = ''.join(map(str, layout1.flatten()))  # Flatten and convert to string\n",
    "        \n",
    "        if layout_str not in unique_puzzles:\n",
    "            puzzles.append(layout1)\n",
    "            solutions.append(solution)\n",
    "            unique_puzzles.add(layout_str)\n",
    "    \n",
    "    if len(puzzles) > 0 and len(puzzles) % 1 == 0:  \n",
    "        print(f\"Collected {len(puzzles)} puzzles...\")\n",
    "\n",
    "# Save the dataset\n",
    "np.savez_compressed(\"star_battle_dataset_test.npz\", puzzles=np.array(puzzles), solutions=np.array(solutions))\n",
    "print(\"Dataset saved successfully!\")\n"
   ]
  },
  {
   "cell_type": "code",
   "execution_count": 28,
   "metadata": {},
   "outputs": [
    {
     "name": "stdout",
     "output_type": "stream",
     "text": [
      "Total puzzles loaded: 1\n",
      "\n",
      "Puzzle 1:\n",
      "[[4 4 4 0 0 0 0 0 0 3]\n",
      " [4 4 4 0 0 0 0 6 6 3]\n",
      " [4 8 4 4 0 0 6 6 6 3]\n",
      " [8 8 8 8 7 7 3 3 3 3]\n",
      " [8 8 8 7 7 7 7 3 3 3]\n",
      " [8 8 8 8 7 7 9 3 3 3]\n",
      " [8 8 8 7 7 7 9 9 3 5]\n",
      " [2 8 2 7 1 9 9 9 5 5]\n",
      " [2 2 2 2 1 9 9 5 5 5]\n",
      " [2 2 2 2 1 9 5 5 5 5]]\n",
      "\n",
      "Solution:\n",
      "[[0 0 0 1 0 1 0 0 0 0]\n",
      " [1 0 0 0 0 0 0 0 1 0]\n",
      " [0 0 1 0 0 0 1 0 0 0]\n",
      " [1 0 0 0 0 0 0 0 0 1]\n",
      " [0 0 0 1 0 0 0 1 0 0]\n",
      " [0 1 0 0 0 1 0 0 0 0]\n",
      " [0 0 0 0 0 0 0 1 0 1]\n",
      " [0 0 1 0 1 0 0 0 0 0]\n",
      " [0 0 0 0 0 0 1 0 1 0]\n",
      " [0 1 0 0 1 0 0 0 0 0]]\n"
     ]
    }
   ],
   "source": [
    "# Load the dataset\n",
    "data = np.load(\"star_battle_dataset_test.npz\", allow_pickle=True)\n",
    "\n",
    "# Extract the puzzles and solutions\n",
    "puzzles = data[\"puzzles\"]\n",
    "solutions = data[\"solutions\"]\n",
    "\n",
    "# Print a few puzzles for verification\n",
    "print(f\"Total puzzles loaded: {len(puzzles)}\")\n",
    "\n",
    "for i in range(min(5, len(puzzles))):  # Print only the first 5 for readability\n",
    "    print(f\"\\nPuzzle {i + 1}:\")\n",
    "    print(puzzles[i])  # Print the stored puzzle grid\n",
    "    print(\"\\nSolution:\")\n",
    "    print(solutions[i])  # Print the corresponding solution grid"
   ]
  },
  {
   "cell_type": "code",
   "execution_count": 10,
   "metadata": {},
   "outputs": [],
   "source": [
    "def visualize_star_battle(puzzle, solution=None):\n",
    "    size = len(puzzle)\n",
    "    \n",
    "    # Convert NumPy array to list if necessary\n",
    "    if isinstance(puzzle, np.ndarray):\n",
    "        puzzle = puzzle.tolist()\n",
    "    if solution is not None and isinstance(solution, np.ndarray):\n",
    "        solution = solution.tolist()\n",
    "\n",
    "    fig, ax = plt.subplots(figsize=(5, 5))\n",
    "\n",
    "    # Create a grid\n",
    "    for x in range(size + 1):\n",
    "        ax.plot([x, x], [0, size], 'k', lw=1)  # Vertical lines\n",
    "        ax.plot([0, size], [x, x], 'k', lw=1)  # Horizontal lines\n",
    "\n",
    "    # Fill in regions with colors\n",
    "    region_colors = {}\n",
    "    color_map = plt.cm.tab20c\n",
    "    unique_regions = sorted(set(cell for row in puzzle for cell in row))\n",
    "\n",
    "    for idx, region in enumerate(unique_regions):\n",
    "        region_colors[region] = color_map(idx / len(unique_regions))\n",
    "\n",
    "    for row in range(size):\n",
    "        for col in range(size):\n",
    "            region = puzzle[row][col]\n",
    "            ax.add_patch(plt.Rectangle((col, size - row - 1), 1, 1, color=region_colors[region], alpha=0.5))\n",
    "            \n",
    "            # Add star if solution is provided\n",
    "            if solution and solution[row][col] == 1:\n",
    "                ax.text(col + 0.5, size - row - 0.5, '★', fontsize=16, ha='center', va='center', color='black')\n",
    "\n",
    "    ax.set_xticks([])\n",
    "    ax.set_yticks([])\n",
    "    ax.set_frame_on(False)\n",
    "    plt.show()\n"
   ]
  },
  {
   "cell_type": "code",
   "execution_count": 11,
   "metadata": {},
   "outputs": [
    {
     "name": "stdout",
     "output_type": "stream",
     "text": [
      "Showing puzzle 391/1340\n"
     ]
    },
    {
     "data": {
      "image/png": "[encoded data removed]",
      "text/plain": [
       "<Figure size 500x500 with 1 Axes>"
      ]
     },
     "metadata": {},
     "output_type": "display_data"
    }
   ],
   "source": [
    "# Load the dataset\n",
    "data = np.load(\"star_battle_dataset.npz\", allow_pickle=True)\n",
    "puzzles = data[\"puzzles\"]\n",
    "solutions = data[\"solutions\"]\n",
    "\n",
    "# Pick 5 random indices\n",
    "some_puzzles = random.sample(range(len(puzzles)), 1)\n",
    "\n",
    "# Show 5 random puzzles\n",
    "for i in some_puzzles:\n",
    "    print(f\"Showing puzzle {i+1}/{len(puzzles)}\")\n",
    "    visualize_star_battle(puzzles[i], solutions[i])"
   ]
  },
  {
   "cell_type": "markdown",
   "metadata": {},
   "source": [
    "## 1.6 Generate initial test set of puzzles"
   ]
  },
  {
   "cell_type": "code",
   "execution_count": 29,
   "metadata": {},
   "outputs": [
    {
     "name": "stdout",
     "output_type": "stream",
     "text": [
      "Loading existing dataset...\n"
     ]
    },
    {
     "ename": "KeyError",
     "evalue": "'solutions is not a file in the archive'",
     "output_type": "error",
     "traceback": [
      "\u001b[31m---------------------------------------------------------------------------\u001b[39m",
      "\u001b[31mKeyError\u001b[39m                                  Traceback (most recent call last)",
      "\u001b[36mCell\u001b[39m\u001b[36m \u001b[39m\u001b[32mIn[29]\u001b[39m\u001b[32m, line 14\u001b[39m\n\u001b[32m     12\u001b[39m data = np.load(dataset_filename, allow_pickle=\u001b[38;5;28;01mTrue\u001b[39;00m)\n\u001b[32m     13\u001b[39m puzzles = \u001b[38;5;28mlist\u001b[39m(data[\u001b[33m\"\u001b[39m\u001b[33mpuzzles\u001b[39m\u001b[33m\"\u001b[39m])\n\u001b[32m---> \u001b[39m\u001b[32m14\u001b[39m solutions = \u001b[38;5;28mlist\u001b[39m(\u001b[43mdata\u001b[49m\u001b[43m[\u001b[49m\u001b[33;43m\"\u001b[39;49m\u001b[33;43msolutions\u001b[39;49m\u001b[33;43m\"\u001b[39;49m\u001b[43m]\u001b[49m)\n\u001b[32m     15\u001b[39m unique_puzzles = {\u001b[33m'\u001b[39m\u001b[33m'\u001b[39m.join(\u001b[38;5;28mmap\u001b[39m(\u001b[38;5;28mstr\u001b[39m, p.flatten())) \u001b[38;5;28;01mfor\u001b[39;00m p \u001b[38;5;129;01min\u001b[39;00m puzzles}\n\u001b[32m     16\u001b[39m \u001b[38;5;28mprint\u001b[39m(\u001b[33mf\u001b[39m\u001b[33m\"\u001b[39m\u001b[33mLoaded \u001b[39m\u001b[38;5;132;01m{\u001b[39;00m\u001b[38;5;28mlen\u001b[39m(puzzles)\u001b[38;5;132;01m}\u001b[39;00m\u001b[33m existing puzzles.\u001b[39m\u001b[33m\"\u001b[39m)\n",
      "\u001b[36mFile \u001b[39m\u001b[32mc:\\Users\\smjw21\\OneDrive - University of Sussex\\individualproject\\StarBattle\\.venv\\Lib\\site-packages\\numpy\\lib\\_npyio_impl.py:261\u001b[39m, in \u001b[36mNpzFile.__getitem__\u001b[39m\u001b[34m(self, key)\u001b[39m\n\u001b[32m    259\u001b[39m         \u001b[38;5;28;01mreturn\u001b[39;00m \u001b[38;5;28mself\u001b[39m.zip.read(key)\n\u001b[32m    260\u001b[39m \u001b[38;5;28;01melse\u001b[39;00m:\n\u001b[32m--> \u001b[39m\u001b[32m261\u001b[39m     \u001b[38;5;28;01mraise\u001b[39;00m \u001b[38;5;167;01mKeyError\u001b[39;00m(\u001b[33mf\u001b[39m\u001b[33m\"\u001b[39m\u001b[38;5;132;01m{\u001b[39;00mkey\u001b[38;5;132;01m}\u001b[39;00m\u001b[33m is not a file in the archive\u001b[39m\u001b[33m\"\u001b[39m)\n",
      "\u001b[31mKeyError\u001b[39m: 'solutions is not a file in the archive'"
     ]
    }
   ],
   "source": [
    "#generate dataset of puzzles\n",
    "num_puzzles = 2000\n",
    "puzzles = []\n",
    "solutions = []\n",
    "unique_puzzles = set()\n",
    "save_interval = 10  # Save every 10 puzzles\n",
    "dataset_filename = \"star_battle_dataset.npz\"\n",
    "\n",
    "# Load existing dataset if it exists\n",
    "if os.path.exists(dataset_filename):\n",
    "    print(\"Loading existing dataset...\")\n",
    "    data = np.load(dataset_filename, allow_pickle=True)\n",
    "    puzzles = list(data[\"puzzles\"])\n",
    "    solutions = list(data[\"solutions\"])\n",
    "    unique_puzzles = {''.join(map(str, p.flatten())) for p in puzzles}\n",
    "    print(f\"Loaded {len(puzzles)} existing puzzles.\")\n",
    "\n",
    "while len(puzzles) < num_puzzles:\n",
    "    layout1 = layout()\n",
    "    solution = puzzle_solver(layout1)\n",
    "\n",
    "    if solution is not None:\n",
    "        layout_str = ''.join(map(str, layout1.flatten()))  # Flatten and convert to string\n",
    "\n",
    "        if layout_str not in unique_puzzles:\n",
    "            puzzles.append(layout1)\n",
    "            solutions.append(solution)\n",
    "            unique_puzzles.add(layout_str)\n",
    "\n",
    "    # Save progress every 100 puzzles\n",
    "    if len(puzzles) % save_interval == 0:\n",
    "        print(f\"Collected {len(puzzles)} puzzles... Saving progress.\")\n",
    "        np.savez_compressed(dataset_filename, puzzles=np.array(puzzles, dtype=object), solutions=np.array(solutions, dtype=object))\n",
    "        print(\"Saved\")\n",
    "\n",
    "# Final save\n",
    "print(\"Final dataset saving...\")\n",
    "np.savez_compressed(dataset_filename, puzzles=np.array(puzzles, dtype=object), solutions=np.array(solutions, dtype=object))\n",
    "print(\"Dataset saved successfully!\")\n"
   ]
  },
  {
   "cell_type": "code",
   "execution_count": null,
   "metadata": {},
   "outputs": [
    {
     "ename": "NameError",
     "evalue": "name 'np' is not defined",
     "output_type": "error",
     "traceback": [
      "\u001b[1;31m---------------------------------------------------------------------------\u001b[0m",
      "\u001b[1;31mNameError\u001b[0m                                 Traceback (most recent call last)",
      "Cell \u001b[1;32mIn[3], line 2\u001b[0m\n\u001b[0;32m      1\u001b[0m \u001b[38;5;66;03m# Load the dataset\u001b[39;00m\n\u001b[1;32m----> 2\u001b[0m data \u001b[38;5;241m=\u001b[39m \u001b[43mnp\u001b[49m\u001b[38;5;241m.\u001b[39mload(\u001b[38;5;124m\"\u001b[39m\u001b[38;5;124mstar_battle_dataset.npz\u001b[39m\u001b[38;5;124m\"\u001b[39m, allow_pickle\u001b[38;5;241m=\u001b[39m\u001b[38;5;28;01mTrue\u001b[39;00m)\n\u001b[0;32m      3\u001b[0m puzzles \u001b[38;5;241m=\u001b[39m data[\u001b[38;5;124m\"\u001b[39m\u001b[38;5;124mpuzzles\u001b[39m\u001b[38;5;124m\"\u001b[39m]\n\u001b[0;32m      4\u001b[0m solutions \u001b[38;5;241m=\u001b[39m data[\u001b[38;5;124m\"\u001b[39m\u001b[38;5;124msolutions\u001b[39m\u001b[38;5;124m\"\u001b[39m]\n",
      "\u001b[1;31mNameError\u001b[0m: name 'np' is not defined"
     ]
    }
   ],
   "source": [
    "# Load the dataset\n",
    "data = np.load(\"star_battle_dataset.npz\", allow_pickle=True)\n",
    "puzzles = data[\"puzzles\"]\n",
    "solutions = data[\"solutions\"]\n",
    "\n",
    "# Pick 5 random indices\n",
    "some_puzzles = random.sample(range(len(puzzles)), 5)\n",
    "\n",
    "# Show 5 random puzzles\n",
    "for i in some_puzzles:\n",
    "    print(f\"Showing puzzle {i+1}/{len(puzzles)}\")\n",
    "    visualize_star_battle(puzzles[i], solutions[i])"
   ]
  },
  {
   "cell_type": "code",
   "execution_count": null,
   "metadata": {},
   "outputs": [
    {
     "name": "stdout",
     "output_type": "stream",
     "text": [
      "Dataset saved as JSON successfully!\n"
     ]
    }
   ],
   "source": [
    "# Convert puzzles and solutions to lists for JSON compatibility\n",
    "puzzles_list = [puzzle.tolist() for puzzle in puzzles]\n",
    "solutions_list = [solution.tolist() for solution in solutions]\n",
    "\n",
    "# Create a dictionary to store both puzzles and solutions\n",
    "dataset = {\"puzzles\": puzzles_list, \"solutions\": solutions_list}\n",
    "\n",
    "# Save as JSON\n",
    "with open(\"star_battle_dataset.json\", \"w\") as json_file:\n",
    "    json.dump(dataset, json_file)\n",
    "\n",
    "print(\"Dataset saved as JSON successfully!\")\n"
   ]
  },
  {
   "cell_type": "code",
   "execution_count": null,
   "metadata": {},
   "outputs": [
    {
     "data": {
      "image/png": "[encoded data removed]",
      "text/plain": [
       "<Figure size 500x500 with 1 Axes>"
      ]
     },
     "metadata": {},
     "output_type": "display_data"
    }
   ],
   "source": [
    "visualize_star_battle(puzzles[19])"
   ]
  }
 ],
 "metadata": {
  "kernelspec": {
   "display_name": ".venv",
   "language": "python",
   "name": "python3"
  },
  "language_info": {
   "codemirror_mode": {
    "name": "ipython",
    "version": 3
   },
   "file_extension": ".py",
   "mimetype": "text/x-python",
   "name": "python",
   "nbconvert_exporter": "python",
   "pygments_lexer": "ipython3",
   "version": "3.11.3"
  }
 },
 "nbformat": 4,
 "nbformat_minor": 2
}
