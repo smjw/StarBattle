{
 "cells": [
  {
   "cell_type": "markdown",
   "metadata": {},
   "source": [
    "Imports"
   ]
  },
  {
   "cell_type": "code",
   "execution_count": 3,
   "metadata": {},
   "outputs": [],
   "source": [
    "import numpy as np\n",
    "import random\n",
    "from pysat.solvers import Solver\n",
    "from collections import deque\n",
    "from scipy.ndimage import label\n",
    "from scipy.spatial import distance\n",
    "import matplotlib.pyplot as plt\n",
    "import itertools\n",
    "\n",
    "\n",
    "\n"
   ]
  },
  {
   "cell_type": "markdown",
   "metadata": {},
   "source": [
    "Task 1: Generate puzzles"
   ]
  },
  {
   "cell_type": "markdown",
   "metadata": {},
   "source": [
    "1.1 define puzzle representations"
   ]
  },
  {
   "cell_type": "markdown",
   "metadata": {},
   "source": [
    "using a 2D array , matrix grid where it is NxN grid size. \n",
    "\n",
    "(A-Z) is for the region labels\n",
    "( * ) is for when a star is present in the grid\n"
   ]
  },
  {
   "cell_type": "code",
   "execution_count": 4,
   "metadata": {},
   "outputs": [],
   "source": [
    "#example with 5x5 grid 1 star per row/column/region\n",
    "puzzle = [\n",
    " ['A', 'B', 'C', 'C', 'C'],\n",
    " ['A', 'B', 'C', 'C', 'D'],\n",
    " ['A', 'A', 'C', 'D', 'D'],\n",
    " ['E', 'C', 'C', 'D', 'D'],\n",
    " ['E', 'E', 'E', 'D', 'D']\n",
    " ]\n",
    "\n",
    "solution = [\n",
    " ['0', '1', '0', '0', '0'],\n",
    " ['0', '0', '0', '1', '0'],\n",
    " ['1', '0', '0', '0', '0'],\n",
    " ['0', '0', '0', '0', '1'],\n",
    " ['0', '0', '1', '0', '0']\n",
    "]\n",
    "# example from puzzle-star-battle.com solved by myself"
   ]
  },
  {
   "cell_type": "markdown",
   "metadata": {},
   "source": [
    "Visualiser"
   ]
  },
  {
   "cell_type": "code",
   "execution_count": 5,
   "metadata": {},
   "outputs": [],
   "source": [
    "#visualiser\n",
    "import matplotlib.pyplot as plt\n",
    "import numpy as np\n",
    "\n",
    "def visualize_star_battle(puzzle, solution):\n",
    "    size = len(puzzle)\n",
    "    \n",
    "    # Convert NumPy array to list if necessary\n",
    "    if isinstance(solution, np.ndarray):\n",
    "        solution = solution.tolist()\n",
    "\n",
    "    fig, ax = plt.subplots(figsize=(5, 5))\n",
    "\n",
    "    # Create a grid\n",
    "    for x in range(size + 1):\n",
    "        ax.plot([x, x], [0, size], 'k', lw=1)  # Vertical lines\n",
    "        ax.plot([0, size], [x, x], 'k', lw=1)  # Horizontal lines\n",
    "\n",
    "    # Fill in regions with colors\n",
    "    region_colors = {}\n",
    "    color_map = plt.cm.tab20c\n",
    "    unique_regions = sorted(set(cell for row in puzzle for cell in row))\n",
    "    \n",
    "    for idx, region in enumerate(unique_regions):\n",
    "        region_colors[region] = color_map(idx / len(unique_regions))\n",
    "\n",
    "    for i in range(size):\n",
    "        for j in range(size):\n",
    "            region = puzzle[i][j]\n",
    "            ax.add_patch(plt.Rectangle((j, size - i - 1), 1, 1, color=region_colors[region], alpha=0.5))\n",
    "            \n",
    "            # Check integer 1 instead of string '1'\n",
    "            if solution[i][j] == 1:\n",
    "                ax.text(j + 0.5, size - i - 0.5, '★', fontsize=16, ha='center', va='center', color='black')\n",
    "\n",
    "    ax.set_xticks([])\n",
    "    ax.set_yticks([])\n",
    "    ax.set_xticklabels([])\n",
    "    ax.set_yticklabels([])\n",
    "    ax.set_xlim(0, size)\n",
    "    ax.set_ylim(0, size)\n",
    "    ax.set_frame_on(False)\n",
    "\n",
    "    plt.show()\n",
    "\n",
    "# visualize_star_battle(puzzle, solution)\n"
   ]
  },
  {
   "cell_type": "markdown",
   "metadata": {},
   "source": [
    "Similar for 10x10 grid with 2 stars per row/column/region, and even 14x14 grids with 3 stars per row/column/region"
   ]
  },
  {
   "cell_type": "code",
   "execution_count": 6,
   "metadata": {},
   "outputs": [
    {
     "name": "stdout",
     "output_type": "stream",
     "text": [
      "example with labels\n"
     ]
    }
   ],
   "source": [
    "print(\"example with labels\")"
   ]
  },
  {
   "cell_type": "markdown",
   "metadata": {},
   "source": [
    "1.2 Constraint representations"
   ]
  },
  {
   "cell_type": "markdown",
   "metadata": {},
   "source": [
    "each row contains only k stars \n",
    "each column contains only k stars \n",
    "each region contains only k stars\n",
    "no two stars can be adjacent\n",
    "\n",
    "pre compute constraint maps"
   ]
  },
  {
   "cell_type": "markdown",
   "metadata": {},
   "source": [
    "find values about puzzle"
   ]
  },
  {
   "cell_type": "code",
   "execution_count": 7,
   "metadata": {},
   "outputs": [],
   "source": [
    "def get_star_limit(grid_size):\n",
    "    if grid_size == 5:\n",
    "        return 1\n",
    "    elif grid_size == 6:\n",
    "        return 1\n",
    "    elif grid_size == 8:\n",
    "        return 1\n",
    "    elif grid_size == 10:\n",
    "        return 2\n",
    "    elif grid_size == 14:\n",
    "        return 3\n",
    "    else:\n",
    "        raise ValueError(f\"Grid size {grid_size} not supported\")"
   ]
  },
  {
   "cell_type": "markdown",
   "metadata": {},
   "source": [
    "Validate puzzles"
   ]
  },
  {
   "cell_type": "code",
   "execution_count": 8,
   "metadata": {},
   "outputs": [],
   "source": [
    "def validate_solution(puzzle,solution):\n",
    "    #get number of stars for grid size of puzzle\n",
    "    grid_size =len(puzzle)\n",
    "    star_lim = get_star_limit(grid_size)\n",
    "\n",
    "    unique_regions = set(cell for row in puzzle for cell in row)\n",
    "\n",
    "    # number of regions matches the grid size\n",
    "    if len(unique_regions) != grid_size:\n",
    "        print(\"num regions doesnt match grid size\")\n",
    "        return False\n",
    "\n",
    "    #track star counts in row, column, region\n",
    "    row_counts = np.zeros(len(puzzle), dtype = int)\n",
    "    col_counts = np.zeros(len(puzzle[0]),dtype=int)\n",
    "    region_counts = {region: 0 for region in set([item for sublist in puzzle for item in sublist])}\n",
    "\n",
    "    # check puzzle and solution dimentions match\n",
    "    if len(puzzle) != len(solution) or len(puzzle[0]) != len(solution):\n",
    "        print(\"puzle dimensions dont match\")\n",
    "        return False\n",
    "    \n",
    "    for r in range(grid_size):\n",
    "        for c in range(grid_size):\n",
    "            if solution[r][c] == '1':\n",
    "                row_counts[r]+=1\n",
    "                col_counts[c]+=1\n",
    "                region = puzzle[r][c]\n",
    "\n",
    "                #count stars in region\n",
    "                if region not in region_counts:\n",
    "                    region_counts[region]=0\n",
    "                region_counts[region]+=1\n",
    "    \n",
    "    # check each row,column,region has exactly n stars \n",
    "    if not (all(count == star_lim for count in row_counts) and\n",
    "            all(count == star_lim for count in col_counts) and\n",
    "            all(count == star_lim for count in region_counts.values())):\n",
    "        print(\"row col or region wrong no stars\")\n",
    "        return False\n",
    "    \n",
    "    #ensure stars dont touch diagnoally\n",
    "    for r in range(grid_size):\n",
    "        for c in range(grid_size):\n",
    "            if solution[r][c] == '1':\n",
    "                # check adjacent cells for stars\n",
    "                for dr in [-1, 0, 1]:\n",
    "                    for dc in [-1, 0, 1]:\n",
    "                        if dr == 0 and dc == 0:\n",
    "                            continue\n",
    "                        nr, nc = r + dr, c + dc\n",
    "                        if 0 <= nr < len(puzzle) and 0 <= nc < len(puzzle[0]):\n",
    "                            if solution[nr][nc] == '1':\n",
    "                                print(\"stars touch horizontal\")\n",
    "                                return False\n",
    "                            \n",
    "    return True"
   ]
  },
  {
   "cell_type": "code",
   "execution_count": 9,
   "metadata": {},
   "outputs": [
    {
     "name": "stdout",
     "output_type": "stream",
     "text": [
      "solution? True\n"
     ]
    }
   ],
   "source": [
    "#checking this works\n",
    "valid = validate_solution(puzzle,solution)\n",
    "print(\"solution?\", valid)"
   ]
  },
  {
   "cell_type": "markdown",
   "metadata": {},
   "source": [
    "Some example puzzles to test "
   ]
  },
  {
   "cell_type": "code",
   "execution_count": 10,
   "metadata": {},
   "outputs": [],
   "source": [
    "#example puzzles \n",
    "puzzle_5x5 = [\n",
    "    ['A', 'B', 'C', 'D', 'E'],\n",
    "    ['A', 'B', 'C', 'D', 'F'],\n",
    "    ['A', 'B', 'C', 'G', 'F'],\n",
    "    ['A', 'H', 'C', 'G', 'F'],\n",
    "    ['I', 'H', 'C', 'G', 'F']\n",
    "]\n",
    "\n",
    "solution_5x5 = [\n",
    "    ['0', '0', '0', '1', '0'],\n",
    "    ['0', '0', '1', '0', '0'],\n",
    "    ['0', '0', '0', '0', '1'],\n",
    "    ['1', '0', '0', '0', '0'],\n",
    "    ['0', '1', '0', '0', '0']\n",
    "]\n",
    "\n",
    "puzzle_10x10 = [\n",
    "    ['A', 'B', 'C', 'D', 'E', 'F', 'G', 'H', 'I', 'J'],\n",
    "    ['A', 'B', 'C', 'D', 'E', 'F', 'G', 'H', 'I', 'J'],\n",
    "    ['A', 'B', 'C', 'D', 'E', 'F', 'G', 'H', 'I', 'J'],\n",
    "    ['A', 'B', 'C', 'D', 'E', 'F', 'G', 'H', 'I', 'J'],\n",
    "    ['A', 'B', 'C', 'D', 'E', 'F', 'G', 'H', 'I', 'J'],\n",
    "    ['A', 'B', 'C', 'D', 'E', 'F', 'G', 'H', 'I', 'J'],\n",
    "    ['A', 'B', 'C', 'D', 'E', 'F', 'G', 'H', 'I', 'J'],\n",
    "    ['A', 'B', 'C', 'D', 'E', 'F', 'G', 'H', 'I', 'J'],\n",
    "    ['A', 'B', 'C', 'D', 'E', 'F', 'G', 'H', 'I', 'J'],\n",
    "    ['A', 'B', 'C', 'D', 'E', 'F', 'G', 'H', 'I', 'J']\n",
    "]\n",
    "\n",
    "solution_10x10 = [\n",
    "    ['0', '1', '0', '0', '1', '0', '0', '0', '0', '0'],\n",
    "    ['1', '0', '0', '0', '0', '1', '0', '0', '0', '0'],\n",
    "    ['0', '0', '1', '0', '0', '0', '1', '0', '0', '0'],\n",
    "    ['0', '1', '0', '0', '0', '0', '0', '1', '0', '0'],\n",
    "    ['1', '0', '0', '1', '0', '0', '0', '0', '0', '0'],\n",
    "    ['0', '0', '0', '0', '1', '0', '1', '0', '0', '0'],\n",
    "    ['0', '0', '1', '0', '0', '0', '0', '1', '0', '0'],\n",
    "    ['1', '0', '0', '1', '0', '0', '0', '0', '0', '0'],\n",
    "    ['0', '1', '0', '0', '0', '1', '0', '0', '0', '0'],\n",
    "    ['0', '0', '1', '0', '0', '0', '0', '0', '1', '0']\n",
    "]\n",
    "\n",
    "puzzle_14x14 = [\n",
    "    ['A', 'B', 'C', 'D', 'E', 'F', 'G', 'H', 'I', 'J', 'K', 'L', 'M', 'N'],\n",
    "    ['A', 'B', 'C', 'D', 'E', 'F', 'G', 'H', 'I', 'J', 'K', 'L', 'M', 'N'],\n",
    "    ['A', 'B', 'C', 'D', 'E', 'F', 'G', 'H', 'I', 'J', 'K', 'L', 'M', 'N'],\n",
    "    ['A', 'B', 'C', 'D', 'E', 'F', 'G', 'H', 'I', 'J', 'K', 'L', 'M', 'N'],\n",
    "    ['A', 'B', 'C', 'D', 'E', 'F', 'G', 'H', 'I', 'J', 'K', 'L', 'M', 'N'],\n",
    "    ['A', 'B', 'C', 'D', 'E', 'F', 'G', 'H', 'I', 'J', 'K', 'L', 'M', 'N'],\n",
    "    ['A', 'B', 'C', 'D', 'E', 'F', 'G', 'H', 'I', 'J', 'K', 'L', 'M', 'N'],\n",
    "    ['A', 'B', 'C', 'D', 'E', 'F', 'G', 'H', 'I', 'J', 'K', 'L', 'M', 'N'],\n",
    "    ['A', 'B', 'C', 'D', 'E', 'F', 'G', 'H', 'I', 'J', 'K', 'L', 'M', 'N'],\n",
    "    ['A', 'B', 'C', 'D', 'E', 'F', 'G', 'H', 'I', 'J', 'K', 'L', 'M', 'N'],\n",
    "    ['A', 'B', 'C', 'D', 'E', 'F', 'G', 'H', 'I', 'J', 'K', 'L', 'M', 'N'],\n",
    "    ['A', 'B', 'C', 'D', 'E', 'F', 'G', 'H', 'I', 'J', 'K', 'L', 'M', 'N'],\n",
    "    ['A', 'B', 'C', 'D', 'E', 'F', 'G', 'H', 'I', 'J', 'K', 'L', 'M', 'N'],\n",
    "    ['A', 'B', 'C', 'D', 'E', 'F', 'G', 'H', 'I', 'J', 'K', 'L', 'M', 'N'],\n",
    "]\n",
    "\n",
    "solution_14x14 = [\n",
    "    ['0', '0', '1', '0', '0', '0', '1', '0', '0', '1', '0', '0', '0', '0'],\n",
    "    ['0', '1', '0', '0', '0', '1', '0', '0', '1', '0', '0', '0', '1', '0'],\n",
    "    ['1', '0', '0', '1', '0', '0', '0', '0', '1', '0', '0', '0', '0', '0'],\n",
    "    ['0', '0', '0', '0', '0', '1', '0', '1', '0', '1', '0', '0', '0', '0'],\n",
    "    ['1', '0', '1', '0', '0', '0', '0', '1', '0', '0', '1', '0', '0', '0'],\n",
    "    ['0', '1', '0', '0', '1', '0', '0', '0', '0', '1', '1', '0', '0', '0'],\n",
    "    ['0', '0', '1', '0', '0', '0', '0', '1', '0', '1', '0', '0', '0', '0'],\n",
    "    ['0', '1', '0', '0', '0', '0', '1', '0', '0', '0', '0', '1', '0', '0'],\n",
    "    ['1', '0', '0', '0', '1', '0', '0', '0', '0', '0', '1', '0', '1', '0'],\n",
    "    ['0', '1', '0', '1', '0', '0', '0', '0', '1', '0', '0', '1', '0', '0'],\n",
    "    ['1', '0', '0', '0', '0', '0', '1', '1', '0', '0', '1', '0', '0', '0'],\n",
    "    ['0', '0', '0', '1', '1', '0', '0', '0', '1', '0', '1', '0', '0', '0'],\n",
    "    ['0', '0', '1', '0', '0', '0', '0', '1', '0', '0', '1', '0', '0', '0'],\n",
    "    ['1', '0', '0', '0', '1', '1', '0', '0', '0', '0', '0', '0', '0', '0']\n",
    "]\n"
   ]
  },
  {
   "cell_type": "code",
   "execution_count": 11,
   "metadata": {},
   "outputs": [
    {
     "name": "stdout",
     "output_type": "stream",
     "text": [
      "num regions doesnt match grid size\n",
      "row col or region wrong no stars\n",
      "row col or region wrong no stars\n",
      "False False False\n"
     ]
    }
   ],
   "source": [
    "print(validate_solution(puzzle_5x5,solution_5x5),\n",
    "      validate_solution(puzzle_10x10, solution_10x10),\n",
    "      validate_solution(puzzle_14x14, solution_14x14))"
   ]
  },
  {
   "cell_type": "markdown",
   "metadata": {},
   "source": [
    "1.3 Basic Generation Algorithm using sat solver"
   ]
  },
  {
   "cell_type": "code",
   "execution_count": 12,
   "metadata": {},
   "outputs": [],
   "source": [
    "def validate_stars(grid, star_lim):\n",
    "    size = len(grid)\n",
    "    \n",
    "    # Check each column has exact num stars\n",
    "    if not all(np.sum(grid[:, col]) == star_lim for col in range(size)):\n",
    "        return False\n",
    "\n",
    "    # Check no adjacent stars\n",
    "    for r in range(size):\n",
    "        for c in range(size):\n",
    "            if grid[r, c] == 1:\n",
    "                #directons orthogonal\n",
    "                for dr in [-1, 0, 1]:\n",
    "                    for dc in [-1, 0, 1]:\n",
    "                        if (dr == 0 and dc == 0) or not (0 <= r + dr < size and 0 <= c + dc < size):\n",
    "                            continue\n",
    "                        if grid[r + dr, c + dc] == 1:\n",
    "                            return False\n",
    "    return True"
   ]
  },
  {
   "cell_type": "code",
   "execution_count": 13,
   "metadata": {},
   "outputs": [],
   "source": [
    "def adjacent_star(grid, r, c):\n",
    "    size = len(grid)\n",
    "    for dr in [-1, 0, 1]:\n",
    "        for dc in [-1, 0, 1]:\n",
    "            if dr == 0 and dc == 0:\n",
    "                continue\n",
    "            nr, nc = r + dr, c + dc\n",
    "            if 0 <= nr < size and 0 <= nc < size and grid[nr, nc] == 1:\n",
    "                return True\n",
    "    return False"
   ]
  },
  {
   "cell_type": "code",
   "execution_count": 14,
   "metadata": {},
   "outputs": [],
   "source": [
    "#start\n",
    "def generate_star_solution(size):\n",
    "    star_lim = get_star_limit(size)\n",
    "    grid = np.zeros((size, size), dtype=int)\n",
    "\n",
    "    # available positions per column to check exact star limits\n",
    "    column_counts = [0] * size\n",
    "    \n",
    "    for row in range(size):\n",
    "        valid_positions = list(range(size))\n",
    "        random.shuffle(valid_positions)  \n",
    "        stars_placed = 0\n",
    "\n",
    "        for col in valid_positions:\n",
    "            # check column limit and adjacency\n",
    "            if column_counts[col] < star_lim and not adjacent_star(grid, row, col):\n",
    "                grid[row, col] = 1\n",
    "                column_counts[col] += 1\n",
    "                stars_placed += 1\n",
    "                if stars_placed == star_lim:\n",
    "                    break\n",
    "\n",
    "    # validate\n",
    "    if not validate_stars(grid, star_lim):\n",
    "        return generate_star_solution(size)  # Retry in rare failure cases\n",
    "\n",
    "    return grid"
   ]
  },
  {
   "cell_type": "code",
   "execution_count": 15,
   "metadata": {},
   "outputs": [
    {
     "name": "stdout",
     "output_type": "stream",
     "text": [
      "[[0 0 0 1 0]\n",
      " [0 1 0 0 0]\n",
      " [0 0 0 0 1]\n",
      " [0 0 1 0 0]\n",
      " [1 0 0 0 0]]\n"
     ]
    }
   ],
   "source": [
    "# check first secton\n",
    "solution1 = generate_star_solution(5)\n",
    "\n",
    "print(solution1)\n"
   ]
  },
  {
   "cell_type": "markdown",
   "metadata": {},
   "source": [
    "regions"
   ]
  },
  {
   "cell_type": "code",
   "execution_count": 16,
   "metadata": {},
   "outputs": [],
   "source": [
    "def generate_regions(solution):\n",
    "    grid_size = solution.shape[0]\n",
    "\n",
    "    # get star positions\n",
    "    stars = [(r, c) for r in range(grid_size) for c in range(grid_size) if solution[r, c] == 1]\n",
    "\n",
    "    # initialize region map with -1 (unassigned cells)\n",
    "    region_map = -np.ones((grid_size, grid_size), dtype=int)\n",
    "\n",
    "    # directions in order left, right, up, down\n",
    "    directions = [(-1, 0), (1, 0), (0, -1), (0, 1)]\n",
    "\n",
    "    # assign each star a unique region number and initialize expansion queue\n",
    "    expansion_queue = []\n",
    "    for region_id, (r, c) in enumerate(stars):\n",
    "        region_map[r, c] = region_id\n",
    "        expansion_queue.append((r, c, region_id))  # (row, col, region_id)\n",
    "\n",
    "    # list to store expanded cells to revisit when no further expansion is possible\n",
    "    expansion_history = expansion_queue.copy()\n",
    "\n",
    "    while expansion_queue:\n",
    "        new_queue = []\n",
    "        \n",
    "        for r, c, region_id in expansion_queue:\n",
    "            for dr, dc in directions:\n",
    "                nr, nc = r + dr, c + dc  # Compute new row/col\n",
    "\n",
    "                if 0 <= nr < grid_size and 0 <= nc < grid_size and region_map[nr, nc] == -1:\n",
    "                    # assign the region and add to new expansion queue\n",
    "                    region_map[nr, nc] = region_id\n",
    "                    new_queue.append((nr, nc, region_id))\n",
    "                    expansion_history.append((nr, nc, region_id))  # store for fallback expansion\n",
    "\n",
    "        # if no new cells were expanded, revisit earlier expanded cells\n",
    "        if not new_queue and expansion_history:\n",
    "            new_queue = expansion_history.copy()\n",
    "            expansion_history.clear()\n",
    "\n",
    "        expansion_queue = new_queue\n",
    "\n",
    "    # Convert numeric regions to lettered regions\n",
    "    unique_regions = np.unique(region_map)\n",
    "    region_map_dict = {val: chr(65 + i) for i, val in enumerate(unique_regions)}\n",
    "    lettered_regions = np.array([[region_map_dict[val] for val in row] for row in region_map])\n",
    "\n",
    "    return lettered_regions"
   ]
  },
  {
   "cell_type": "code",
   "execution_count": 17,
   "metadata": {},
   "outputs": [
    {
     "name": "stdout",
     "output_type": "stream",
     "text": [
      "[[0 0 0 1 0]\n",
      " [0 1 0 0 0]\n",
      " [0 0 0 0 1]\n",
      " [0 0 1 0 0]\n",
      " [1 0 0 0 0]]\n",
      "[[0 0 0 1 0]\n",
      " [0 1 0 0 0]\n",
      " [0 0 0 0 1]\n",
      " [0 0 1 0 0]\n",
      " [1 0 0 0 0]]\n"
     ]
    }
   ],
   "source": [
    "print(solution1)\n",
    "solution1 = np.array(solution1,dtype=int)\n",
    "print(solution1)"
   ]
  },
  {
   "cell_type": "code",
   "execution_count": 18,
   "metadata": {},
   "outputs": [
    {
     "name": "stdout",
     "output_type": "stream",
     "text": [
      "[['B' 'B' 'A' 'A' 'A']\n",
      " ['B' 'B' 'B' 'A' 'C']\n",
      " ['B' 'B' 'D' 'C' 'C']\n",
      " ['E' 'D' 'D' 'D' 'C']\n",
      " ['E' 'E' 'D' 'D' 'C']]\n",
      "[[0 0 0 1 0]\n",
      " [0 1 0 0 0]\n",
      " [0 0 0 0 1]\n",
      " [0 0 1 0 0]\n",
      " [1 0 0 0 0]]\n"
     ]
    }
   ],
   "source": [
    "puzzle1 = generate_regions(solution1)\n",
    "print(puzzle1)\n",
    "print(solution1)"
   ]
  },
  {
   "cell_type": "markdown",
   "metadata": {},
   "source": [
    "trying new for 10x10 and 14x14"
   ]
  },
  {
   "cell_type": "markdown",
   "metadata": {},
   "source": [
    "version 3"
   ]
  },
  {
   "cell_type": "code",
   "execution_count": 41,
   "metadata": {},
   "outputs": [],
   "source": [
    "def group_stars(stars, stars_per_region):\n",
    "        # Function to group stars into regions\n",
    "        star_set = set(stars)  # Set for faster lookup\n",
    "        grouped_stars = set()\n",
    "        star_groups = []\n",
    "\n",
    "        def find_group(start):\n",
    "            \"\"\"Finds the nearest ungrouped stars to `start`, up to `stars_per_region`.\"\"\"\n",
    "            queue = deque([start])\n",
    "            current_group = []\n",
    "            visited = set()  # Avoid revisiting stars\n",
    "\n",
    "            while queue and len(current_group) < stars_per_region:\n",
    "                r, c = queue.popleft()\n",
    "                if (r, c) in grouped_stars or (r, c) in visited:\n",
    "                    continue\n",
    "\n",
    "                current_group.append((r, c))\n",
    "                grouped_stars.add((r, c))\n",
    "                visited.add((r, c))\n",
    "\n",
    "                # Find all ungrouped stars sorted by Manhattan distance\n",
    "                ungrouped_stars = [s for s in star_set if s not in grouped_stars]\n",
    "                ungrouped_stars.sort(key=lambda s: abs(s[0] - r) + abs(s[1] - c))\n",
    "\n",
    "                # Add nearest stars to the queue\n",
    "                queue.extend(ungrouped_stars[:stars_per_region - len(current_group)])\n",
    "\n",
    "            return current_group\n",
    "\n",
    "        # Group stars until all are grouped\n",
    "        for start_star in stars:\n",
    "            if start_star not in grouped_stars:\n",
    "                star_groups.append(find_group(start_star))\n",
    "\n",
    "        return star_groups"
   ]
  },
  {
   "cell_type": "code",
   "execution_count": 61,
   "metadata": {},
   "outputs": [],
   "source": [
    "def bfs_shortest_path(start, end, grid_size, region_map):\n",
    "    \"\"\"Find the shortest path from start to end on the grid.\"\"\"\n",
    "    directions = [(-1, 0), (1, 0), (0, -1), (0, 1)]\n",
    "    queue = deque([(start, [start])])\n",
    "    visited = set([start])\n",
    "    \n",
    "    while queue:\n",
    "        (r, c), path = queue.popleft()\n",
    "        \n",
    "        # If we've reached the end, return the path\n",
    "        if (r, c) == end:\n",
    "            return path\n",
    "        \n",
    "        for dr, dc in directions:\n",
    "            nr, nc = r + dr, c + dc\n",
    "            if 0 <= nr < grid_size and 0 <= nc < grid_size and (nr, nc) not in visited and region_map[nr, nc] == -1:\n",
    "                visited.add((nr, nc))\n",
    "                queue.append(((nr, nc), path + [(nr, nc)]))\n",
    "    \n",
    "    return []  # Return empty if no path found\n",
    "\n",
    "def generate_regions3(solution):\n",
    "    grid_size = solution.shape[0]\n",
    "    \n",
    "    # Determine required stars per region\n",
    "    per_region = get_star_limit(grid_size)\n",
    "    \n",
    "    # Get star positions\n",
    "    stars = [(r, c) for r in range(grid_size) for c in range(grid_size) if solution[r, c] == 1]\n",
    "\n",
    "    # Ensure valid division of stars\n",
    "    assert len(stars) % per_region == 0, \"Star count must be divisible by stars_per_region!\"\n",
    "\n",
    "    # Initialize region map with -1 (unassigned)\n",
    "    region_map = -np.ones((grid_size, grid_size), dtype=int)\n",
    "\n",
    "    # Group stars into valid sets\n",
    "    star_groups = group_stars(stars, per_region)\n",
    "\n",
    "    expansion_queue = []\n",
    "    region_id = 0\n",
    "\n",
    "    for star_group in star_groups:\n",
    "        # Connect all stars in the group using BFS\n",
    "        visited = set()\n",
    "        \n",
    "        # Start by connecting the first star in the group with the others\n",
    "        for i, start in enumerate(star_group):\n",
    "            for end in star_group[i + 1:]:\n",
    "                # Find the shortest path between start and end\n",
    "                path = bfs_shortest_path(start, end, grid_size, region_map)\n",
    "                if path:\n",
    "                    for r, c in path:\n",
    "                        region_map[r, c] = region_id  # Assign to the region\n",
    "                        visited.add((r, c))\n",
    "\n",
    "        # Add stars to the expansion queue for later region growth\n",
    "        for r, c in visited:\n",
    "            expansion_queue.append(((r, c), region_id))  # Expand from all connected cells\n",
    "\n",
    "        region_id += 1\n",
    "\n",
    "    # Store expanded cells to revisit when no further expansion is possible\n",
    "    expansion_history = expansion_queue.copy()\n",
    "\n",
    "    # Expand the regions\n",
    "    while expansion_queue:\n",
    "        new_queue = []\n",
    "\n",
    "        for (r, c), region_id in expansion_queue:\n",
    "            for dr, dc in [(-1, 0), (1, 0), (0, -1), (0, 1)]:\n",
    "                nr, nc = r + dr, c + dc\n",
    "\n",
    "                if 0 <= nr < grid_size and 0 <= nc < grid_size and region_map[nr, nc] == -1:\n",
    "                    # Assign the region and add to new expansion queue\n",
    "                    region_map[nr, nc] = region_id\n",
    "                    new_queue.append(((nr, nc), region_id))\n",
    "                    expansion_history.append(((nr, nc), region_id))\n",
    "\n",
    "        # If no new cells were expanded, revisit earlier expanded cells\n",
    "        if not new_queue and expansion_history:\n",
    "            new_queue = expansion_history.copy()\n",
    "            expansion_history.clear()\n",
    "\n",
    "        expansion_queue = new_queue\n",
    "\n",
    "    # Convert numeric regions to lettered regions\n",
    "    unique_regions = np.unique(region_map)\n",
    "    region_map_dict = {val: chr(65 + i) for i, val in enumerate(unique_regions)}\n",
    "    lettered_regions = np.array([[region_map_dict[val] for val in row] for row in region_map])\n",
    "\n",
    "    return lettered_regions\n"
   ]
  },
  {
   "cell_type": "code",
   "execution_count": 55,
   "metadata": {},
   "outputs": [
    {
     "data": {
      "image/png": "[encoded data removed]",
      "text/plain": [
       "<Figure size 500x500 with 1 Axes>"
      ]
     },
     "metadata": {},
     "output_type": "display_data"
    }
   ],
   "source": [
    "solution5 = generate_star_solution(5)\n",
    "puzzle5 = generate_regions(solution5)\n",
    "visualize_star_battle(puzzle5, solution5)"
   ]
  },
  {
   "cell_type": "code",
   "execution_count": 56,
   "metadata": {},
   "outputs": [
    {
     "name": "stdout",
     "output_type": "stream",
     "text": [
      "[['A' 'A' 'A' 'C' 'C' 'B' 'B' 'B' 'D' 'D']\n",
      " ['A' 'A' 'A' 'C' 'C' 'B' 'B' 'B' 'D' 'D']\n",
      " ['A' 'A' 'A' 'C' 'C' 'B' 'B' 'B' 'D' 'D']\n",
      " ['A' 'A' 'C' 'C' 'C' 'C' 'B' 'D' 'D' 'D']\n",
      " ['E' 'E' 'E' 'C' 'C' 'F' 'F' 'G' 'D' 'D']\n",
      " ['E' 'E' 'E' 'E' 'F' 'F' 'F' 'G' 'G' 'H']\n",
      " ['E' 'E' 'E' 'I' 'F' 'F' 'F' 'G' 'G' 'H']\n",
      " ['I' 'I' 'I' 'I' 'I' 'F' 'G' 'G' 'G' 'H']\n",
      " ['I' 'I' 'I' 'I' 'J' 'F' 'G' 'G' 'G' 'H']\n",
      " ['J' 'J' 'J' 'J' 'J' 'J' 'G' 'G' 'G' 'H']]\n",
      "[[1 0 0 0 0 0 1 0 0 0]\n",
      " [0 0 0 0 1 0 0 0 1 0]\n",
      " [0 1 0 0 0 0 1 0 0 0]\n",
      " [0 0 0 1 0 0 0 0 1 0]\n",
      " [1 0 0 0 0 1 0 0 0 0]\n",
      " [0 0 1 0 0 0 0 1 0 0]\n",
      " [0 0 0 0 0 1 0 0 0 1]\n",
      " [0 1 0 1 0 0 0 0 0 0]\n",
      " [0 0 0 0 0 0 0 1 0 1]\n",
      " [0 0 1 0 1 0 0 0 0 0]]\n"
     ]
    },
    {
     "data": {
      "image/png": "[encoded data removed]",
      "text/plain": [
       "<Figure size 500x500 with 1 Axes>"
      ]
     },
     "metadata": {},
     "output_type": "display_data"
    }
   ],
   "source": [
    "solution10 = generate_star_solution(10)\n",
    "puzzle10 = generate_regions3(solution10)\n",
    "print(puzzle10)\n",
    "print(solution10)\n",
    "visualize_star_battle(puzzle10, solution10)\n"
   ]
  },
  {
   "cell_type": "code",
   "execution_count": 60,
   "metadata": {},
   "outputs": [
    {
     "name": "stdout",
     "output_type": "stream",
     "text": [
      "[['C' 'C' 'C' 'C' 'C' 'A' 'A' 'A' 'A' 'A' 'B' 'B' 'B' 'B']\n",
      " ['C' 'C' 'C' 'C' 'C' 'A' 'A' 'A' 'A' 'B' 'B' 'B' 'B' 'B']\n",
      " ['C' 'C' 'C' 'C' 'C' 'A' 'A' 'A' 'D' 'D' 'B' 'B' 'B' 'B']\n",
      " ['C' 'C' 'C' 'E' 'E' 'E' 'A' 'D' 'D' 'D' 'B' 'F' 'F' 'F']\n",
      " ['G' 'C' 'E' 'E' 'E' 'E' 'E' 'D' 'D' 'D' 'D' 'F' 'F' 'F']\n",
      " ['G' 'G' 'E' 'E' 'E' 'E' 'H' 'H' 'D' 'D' 'D' 'F' 'F' 'F']\n",
      " ['G' 'G' 'G' 'E' 'H' 'H' 'H' 'H' 'I' 'I' 'F' 'F' 'F' 'F']\n",
      " ['G' 'G' 'G' 'G' 'H' 'H' 'H' 'H' 'I' 'I' 'I' 'F' 'J' 'F']\n",
      " ['G' 'G' 'G' 'K' 'H' 'H' 'H' 'H' 'I' 'I' 'I' 'J' 'J' 'J']\n",
      " ['K' 'K' 'K' 'K' 'K' 'L' 'L' 'H' 'I' 'I' 'J' 'J' 'J' 'J']\n",
      " ['K' 'K' 'K' 'K' 'L' 'L' 'L' 'L' 'I' 'I' 'I' 'J' 'J' 'J']\n",
      " ['K' 'K' 'K' 'K' 'L' 'L' 'L' 'L' 'I' 'I' 'J' 'J' 'J' 'J']\n",
      " ['M' 'M' 'M' 'M' 'L' 'L' 'N' 'N' 'N' 'N' 'N' 'N' 'N' 'N']\n",
      " ['M' 'M' 'M' 'M' 'M' 'M' 'M' 'N' 'N' 'N' 'N' 'N' 'N' 'N']]\n",
      "[[0 0 0 0 0 0 1 0 1 0 1 0 0 0]\n",
      " [0 1 0 0 1 0 0 0 0 0 0 0 1 0]\n",
      " [0 0 0 0 0 0 1 0 1 0 1 0 0 0]\n",
      " [0 1 0 1 0 0 0 0 0 0 0 0 1 0]\n",
      " [0 0 0 0 0 1 0 0 1 0 1 0 0 0]\n",
      " [1 0 0 1 0 0 0 0 0 0 0 0 0 1]\n",
      " [0 0 0 0 0 0 1 0 0 1 0 1 0 0]\n",
      " [1 0 1 0 1 0 0 0 0 0 0 0 0 0]\n",
      " [0 0 0 0 0 0 0 1 0 1 0 0 1 0]\n",
      " [0 1 0 1 0 1 0 0 0 0 0 0 0 0]\n",
      " [0 0 0 0 0 0 0 1 0 1 0 0 0 1]\n",
      " [0 0 1 0 1 0 0 0 0 0 0 1 0 0]\n",
      " [1 0 0 0 0 0 0 1 0 0 0 0 0 1]\n",
      " [0 0 1 0 0 1 0 0 0 0 0 1 0 0]]\n"
     ]
    },
    {
     "data": {
      "image/png": "[encoded data removed]",
      "text/plain": [
       "<Figure size 500x500 with 1 Axes>"
      ]
     },
     "metadata": {},
     "output_type": "display_data"
    }
   ],
   "source": [
    "solution14 = generate_star_solution(14)\n",
    "puzzle14 = generate_regions3(solution14)\n",
    "print(puzzle14)\n",
    "print(solution14)\n",
    "visualize_star_battle(puzzle14, solution14)\n"
   ]
  },
  {
   "cell_type": "code",
   "execution_count": 59,
   "metadata": {},
   "outputs": [
    {
     "name": "stdout",
     "output_type": "stream",
     "text": [
      "row col or region wrong no stars\n",
      "the solution is False\n"
     ]
    }
   ],
   "source": [
    "print(f\"the solution is {validate_solution(puzzle14, puzzle14)}\")"
   ]
  },
  {
   "cell_type": "markdown",
   "metadata": {},
   "source": [
    "1.3 Data structure choices"
   ]
  },
  {
   "cell_type": "code",
   "execution_count": 26,
   "metadata": {},
   "outputs": [
    {
     "name": "stdout",
     "output_type": "stream",
     "text": [
      "examples class\n"
     ]
    }
   ],
   "source": [
    "print(\"examples class\")"
   ]
  },
  {
   "cell_type": "markdown",
   "metadata": {},
   "source": [
    "1.4 Storing and compiling puzzles"
   ]
  },
  {
   "cell_type": "markdown",
   "metadata": {},
   "source": [
    "1.4 SAT solve to validate uniqueness of puzzles"
   ]
  },
  {
   "cell_type": "markdown",
   "metadata": {},
   "source": [
    "1.6 Generate initial test set of puzzles"
   ]
  },
  {
   "cell_type": "code",
   "execution_count": 27,
   "metadata": {},
   "outputs": [
    {
     "name": "stdout",
     "output_type": "stream",
     "text": [
      "test set of puzzles\n"
     ]
    }
   ],
   "source": [
    "print(\"test set of puzzles\")"
   ]
  }
 ],
 "metadata": {
  "kernelspec": {
   "display_name": "Python 3",
   "language": "python",
   "name": "python3"
  },
  "language_info": {
   "codemirror_mode": {
    "name": "ipython",
    "version": 3
   },
   "file_extension": ".py",
   "mimetype": "text/x-python",
   "name": "python",
   "nbconvert_exporter": "python",
   "pygments_lexer": "ipython3",
   "version": "3.11.9"
  }
 },
 "nbformat": 4,
 "nbformat_minor": 2
}
