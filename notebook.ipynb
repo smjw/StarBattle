{
 "cells": [
  {
   "cell_type": "markdown",
   "metadata": {},
   "source": [
    "Imports"
   ]
  },
  {
   "cell_type": "code",
   "execution_count": 36,
   "metadata": {},
   "outputs": [],
   "source": [
    "import numpy as np\n",
    "import random\n",
    "from pysat.solvers import Solver\n",
    "from collections import deque\n"
   ]
  },
  {
   "cell_type": "markdown",
   "metadata": {},
   "source": [
    "Task 1: Generate puzzles"
   ]
  },
  {
   "cell_type": "markdown",
   "metadata": {},
   "source": [
    "1.1 define puzzle representations"
   ]
  },
  {
   "cell_type": "markdown",
   "metadata": {},
   "source": [
    "using a 2D array , matrix grid where it is NxN grid size. \n",
    "\n",
    "(A-Z) is for the region labels\n",
    "( * ) is for when a star is present in the grid\n"
   ]
  },
  {
   "cell_type": "code",
   "execution_count": 2,
   "metadata": {},
   "outputs": [],
   "source": [
    "#example with 5x5 grid 1 star per row/column/region\n",
    "puzzle = [\n",
    " ['A', 'B', 'C', 'C', 'C'],\n",
    " ['A', 'B', 'C', 'C', 'D'],\n",
    " ['A', 'A', 'C', 'D', 'D'],\n",
    " ['E', 'C', 'C', 'D', 'D'],\n",
    " ['E', 'E', 'E', 'D', 'D']\n",
    " ]\n",
    "\n",
    "solution = [\n",
    " ['0', '1', '0', '0', '0'],\n",
    " ['0', '0', '0', '1', '0'],\n",
    " ['1', '0', '0', '0', '0'],\n",
    " ['0', '0', '0', '0', '1'],\n",
    " ['0', '0', '1', '0', '0']\n",
    "]\n",
    "# example from puzzle-star-battle.com solved by myself"
   ]
  },
  {
   "cell_type": "markdown",
   "metadata": {},
   "source": [
    "Similar for 10x10 grid with 2 stars per row/column/region, and even 14x14 grids with 3 stars per row/column/region"
   ]
  },
  {
   "cell_type": "code",
   "execution_count": null,
   "metadata": {},
   "outputs": [],
   "source": [
    "print(\"example with labels\")"
   ]
  },
  {
   "cell_type": "markdown",
   "metadata": {},
   "source": [
    "1.2 Constraint representations"
   ]
  },
  {
   "cell_type": "markdown",
   "metadata": {},
   "source": [
    "each row contains only k stars \n",
    "each column contains only k stars \n",
    "each region contains only k stars\n",
    "no two stars can be adjacent\n",
    "\n",
    "pre compute constraint maps"
   ]
  },
  {
   "cell_type": "markdown",
   "metadata": {},
   "source": [
    "find values about puzzle"
   ]
  },
  {
   "cell_type": "code",
   "execution_count": 7,
   "metadata": {},
   "outputs": [],
   "source": [
    "def get_star_limit(grid_size):\n",
    "    if grid_size == 5:\n",
    "        return 1\n",
    "    elif grid_size == 6:\n",
    "        return 1\n",
    "    elif grid_size == 8:\n",
    "        return 1\n",
    "    elif grid_size == 10:\n",
    "        return 2\n",
    "    elif grid_size == 14:\n",
    "        return 3\n",
    "    else:\n",
    "        raise ValueError(f\"Grid size {grid_size} not supported\")"
   ]
  },
  {
   "cell_type": "markdown",
   "metadata": {},
   "source": [
    "Precompute and validate puzzles"
   ]
  },
  {
   "cell_type": "code",
   "execution_count": 19,
   "metadata": {},
   "outputs": [],
   "source": [
    "def validate_solution(puzzle,solution):\n",
    "    #get number of stars for grid size of puzzle\n",
    "    grid_size =len(puzzle)\n",
    "    star_lim = get_star_limit(grid_size)\n",
    "\n",
    "    unique_regions = set(cell for row in puzzle for cell in row)\n",
    "\n",
    "    # number of regions matches the grid size\n",
    "    if len(unique_regions) != grid_size:\n",
    "        return False\n",
    "\n",
    "    #track star counts in row, column, region\n",
    "    row_counts = np.zeros(len(puzzle), dtype = int)\n",
    "    col_counts = np.zeros(len(puzzle[0]),dtype=int)\n",
    "    region_counts = {region: 0 for region in set([item for sublist in puzzle for item in sublist])}\n",
    "\n",
    "    # check puzzle and solution dimentions match\n",
    "    if len(puzzle) != len(solution) or len(puzzle[0]) != len(solution):\n",
    "        return False\n",
    "    \n",
    "    for r in range(grid_size):\n",
    "        for c in range(grid_size):\n",
    "            if solution[r][c] == '1':\n",
    "                row_counts[r]+=1\n",
    "                col_counts[c]+=1\n",
    "                region = puzzle[r][c]\n",
    "\n",
    "                #count stars in region\n",
    "                if region not in region_counts:\n",
    "                    region_counts[region]=0\n",
    "                region_counts[region]+=1\n",
    "    \n",
    "    # check each row,colum,region has exactly n stars \n",
    "    if not (all(count == star_lim for count in row_counts) and\n",
    "            all(count == star_lim for count in col_counts) and\n",
    "            all(count == star_lim for count in region_counts.values())):\n",
    "        return False\n",
    "    \n",
    "    #ensure stars dont touch diagnoally\n",
    "    for r in range(grid_size):\n",
    "        for c in range(grid_size):\n",
    "            if solution[r][c] == '1':\n",
    "                # check adjacent cells for stars\n",
    "                for dr in [-1, 0, 1]:\n",
    "                    for dc in [-1, 0, 1]:\n",
    "                        if dr == 0 and dc == 0:\n",
    "                            continue\n",
    "                        nr, nc = r + dr, c + dc\n",
    "                        if 0 <= nr < len(puzzle) and 0 <= nc < len(puzzle[0]):\n",
    "                            if solution[nr][nc] == '1':\n",
    "                                return False\n",
    "                            \n",
    "    return True"
   ]
  },
  {
   "cell_type": "code",
   "execution_count": 13,
   "metadata": {},
   "outputs": [
    {
     "name": "stdout",
     "output_type": "stream",
     "text": [
      "solution? True\n"
     ]
    }
   ],
   "source": [
    "#checking this works\n",
    "valid = validate_solution(puzzle,solution)\n",
    "print(\"solution?\", valid)"
   ]
  },
  {
   "cell_type": "markdown",
   "metadata": {},
   "source": [
    "Some example puzzles to test "
   ]
  },
  {
   "cell_type": "code",
   "execution_count": 17,
   "metadata": {},
   "outputs": [],
   "source": [
    "#example puzzles \n",
    "puzzle_5x5 = [\n",
    "    ['A', 'B', 'C', 'D', 'E'],\n",
    "    ['A', 'B', 'C', 'D', 'F'],\n",
    "    ['A', 'B', 'C', 'G', 'F'],\n",
    "    ['A', 'H', 'C', 'G', 'F'],\n",
    "    ['I', 'H', 'C', 'G', 'F']\n",
    "]\n",
    "\n",
    "solution_5x5 = [\n",
    "    ['0', '0', '0', '1', '0'],\n",
    "    ['0', '0', '1', '0', '0'],\n",
    "    ['0', '0', '0', '0', '1'],\n",
    "    ['1', '0', '0', '0', '0'],\n",
    "    ['0', '1', '0', '0', '0']\n",
    "]\n",
    "\n",
    "puzzle_10x10 = [\n",
    "    ['A', 'B', 'C', 'D', 'E', 'F', 'G', 'H', 'I', 'J'],\n",
    "    ['A', 'B', 'C', 'D', 'E', 'F', 'G', 'H', 'I', 'J'],\n",
    "    ['A', 'B', 'C', 'D', 'E', 'F', 'G', 'H', 'I', 'J'],\n",
    "    ['A', 'B', 'C', 'D', 'E', 'F', 'G', 'H', 'I', 'J'],\n",
    "    ['A', 'B', 'C', 'D', 'E', 'F', 'G', 'H', 'I', 'J'],\n",
    "    ['A', 'B', 'C', 'D', 'E', 'F', 'G', 'H', 'I', 'J'],\n",
    "    ['A', 'B', 'C', 'D', 'E', 'F', 'G', 'H', 'I', 'J'],\n",
    "    ['A', 'B', 'C', 'D', 'E', 'F', 'G', 'H', 'I', 'J'],\n",
    "    ['A', 'B', 'C', 'D', 'E', 'F', 'G', 'H', 'I', 'J'],\n",
    "    ['A', 'B', 'C', 'D', 'E', 'F', 'G', 'H', 'I', 'J']\n",
    "]\n",
    "\n",
    "solution_10x10 = [\n",
    "    ['0', '1', '0', '0', '1', '0', '0', '0', '0', '0'],\n",
    "    ['1', '0', '0', '0', '0', '1', '0', '0', '0', '0'],\n",
    "    ['0', '0', '1', '0', '0', '0', '1', '0', '0', '0'],\n",
    "    ['0', '1', '0', '0', '0', '0', '0', '1', '0', '0'],\n",
    "    ['1', '0', '0', '1', '0', '0', '0', '0', '0', '0'],\n",
    "    ['0', '0', '0', '0', '1', '0', '1', '0', '0', '0'],\n",
    "    ['0', '0', '1', '0', '0', '0', '0', '1', '0', '0'],\n",
    "    ['1', '0', '0', '1', '0', '0', '0', '0', '0', '0'],\n",
    "    ['0', '1', '0', '0', '0', '1', '0', '0', '0', '0'],\n",
    "    ['0', '0', '1', '0', '0', '0', '0', '0', '1', '0']\n",
    "]\n",
    "\n",
    "puzzle_14x14 = [\n",
    "    ['A', 'B', 'C', 'D', 'E', 'F', 'G', 'H', 'I', 'J', 'K', 'L', 'M', 'N'],\n",
    "    ['A', 'B', 'C', 'D', 'E', 'F', 'G', 'H', 'I', 'J', 'K', 'L', 'M', 'N'],\n",
    "    ['A', 'B', 'C', 'D', 'E', 'F', 'G', 'H', 'I', 'J', 'K', 'L', 'M', 'N'],\n",
    "    ['A', 'B', 'C', 'D', 'E', 'F', 'G', 'H', 'I', 'J', 'K', 'L', 'M', 'N'],\n",
    "    ['A', 'B', 'C', 'D', 'E', 'F', 'G', 'H', 'I', 'J', 'K', 'L', 'M', 'N'],\n",
    "    ['A', 'B', 'C', 'D', 'E', 'F', 'G', 'H', 'I', 'J', 'K', 'L', 'M', 'N'],\n",
    "    ['A', 'B', 'C', 'D', 'E', 'F', 'G', 'H', 'I', 'J', 'K', 'L', 'M', 'N'],\n",
    "    ['A', 'B', 'C', 'D', 'E', 'F', 'G', 'H', 'I', 'J', 'K', 'L', 'M', 'N'],\n",
    "    ['A', 'B', 'C', 'D', 'E', 'F', 'G', 'H', 'I', 'J', 'K', 'L', 'M', 'N'],\n",
    "    ['A', 'B', 'C', 'D', 'E', 'F', 'G', 'H', 'I', 'J', 'K', 'L', 'M', 'N'],\n",
    "    ['A', 'B', 'C', 'D', 'E', 'F', 'G', 'H', 'I', 'J', 'K', 'L', 'M', 'N'],\n",
    "    ['A', 'B', 'C', 'D', 'E', 'F', 'G', 'H', 'I', 'J', 'K', 'L', 'M', 'N'],\n",
    "    ['A', 'B', 'C', 'D', 'E', 'F', 'G', 'H', 'I', 'J', 'K', 'L', 'M', 'N'],\n",
    "    ['A', 'B', 'C', 'D', 'E', 'F', 'G', 'H', 'I', 'J', 'K', 'L', 'M', 'N'],\n",
    "]\n",
    "\n",
    "solution_14x14 = [\n",
    "    ['0', '0', '1', '0', '0', '0', '1', '0', '0', '1', '0', '0', '0', '0'],\n",
    "    ['0', '1', '0', '0', '0', '1', '0', '0', '1', '0', '0', '0', '1', '0'],\n",
    "    ['1', '0', '0', '1', '0', '0', '0', '0', '1', '0', '0', '0', '0', '0'],\n",
    "    ['0', '0', '0', '0', '0', '1', '0', '1', '0', '1', '0', '0', '0', '0'],\n",
    "    ['1', '0', '1', '0', '0', '0', '0', '1', '0', '0', '1', '0', '0', '0'],\n",
    "    ['0', '1', '0', '0', '1', '0', '0', '0', '0', '1', '1', '0', '0', '0'],\n",
    "    ['0', '0', '1', '0', '0', '0', '0', '1', '0', '1', '0', '0', '0', '0'],\n",
    "    ['0', '1', '0', '0', '0', '0', '1', '0', '0', '0', '0', '1', '0', '0'],\n",
    "    ['1', '0', '0', '0', '1', '0', '0', '0', '0', '0', '1', '0', '1', '0'],\n",
    "    ['0', '1', '0', '1', '0', '0', '0', '0', '1', '0', '0', '1', '0', '0'],\n",
    "    ['1', '0', '0', '0', '0', '0', '1', '1', '0', '0', '1', '0', '0', '0'],\n",
    "    ['0', '0', '0', '1', '1', '0', '0', '0', '1', '0', '1', '0', '0', '0'],\n",
    "    ['0', '0', '1', '0', '0', '0', '0', '1', '0', '0', '1', '0', '0', '0'],\n",
    "    ['1', '0', '0', '0', '1', '1', '0', '0', '0', '0', '0', '0', '0', '0']\n",
    "]\n"
   ]
  },
  {
   "cell_type": "code",
   "execution_count": 18,
   "metadata": {},
   "outputs": [
    {
     "name": "stdout",
     "output_type": "stream",
     "text": [
      "False False False\n"
     ]
    }
   ],
   "source": [
    "print(validate_solution(puzzle_5x5,solution_5x5),\n",
    "      validate_solution(puzzle_10x10, solution_10x10),\n",
    "      validate_solution(puzzle_14x14, solution_14x14))"
   ]
  },
  {
   "cell_type": "markdown",
   "metadata": {},
   "source": [
    "1.3 Basic Generation Algorithm using sat solver"
   ]
  },
  {
   "cell_type": "markdown",
   "metadata": {},
   "source": [
    "create regions"
   ]
  },
  {
   "cell_type": "markdown",
   "metadata": {},
   "source": [
    "#ensure region integrity by shuffling labels by shuffling blocks of regions\n",
    "# contiguous cells\n",
    "# equally distributed no gaps or overlap  \n",
    "# Regions must be connected orthogonally  \n",
    "using floodfill algorithm to ensure contiguous regions"
   ]
  },
  {
   "cell_type": "code",
   "execution_count": 42,
   "metadata": {},
   "outputs": [
    {
     "name": "stdout",
     "output_type": "stream",
     "text": [
      "[['' '' '' 'C' 'C']\n",
      " ['' 'E' '' 'C' 'C']\n",
      " ['E' 'E' 'E' '' 'C']\n",
      " ['A' 'E' 'D' 'B' 'B']\n",
      " ['A' 'A' 'B' 'B' 'B']]\n"
     ]
    }
   ],
   "source": [
    "def generate_regions(grid_size):  \n",
    "    regions = np.full((grid_size, grid_size), '', dtype=str)\n",
    "    labels = [chr(65 + i) for i in range(grid_size)]\n",
    "    random.shuffle(labels)\n",
    "\n",
    "    def flood_fill(start_row, start_col, region_label):\n",
    "        # up, down, left, right\n",
    "        directions = [(-1, 0), (1, 0), (0, -1), (0, 1)]\n",
    "        \n",
    "        # BFS\n",
    "        queue = deque([(start_row, start_col)])\n",
    "        regions[start_row][start_col] = region_label\n",
    "        filled_cells = 1\n",
    "        \n",
    "        while queue:\n",
    "            r, c = queue.popleft()\n",
    "            # trys adding neighboring cells to the region\n",
    "            random.shuffle(directions)  # random for varied filling\n",
    "            for dr, dc in directions:\n",
    "                nr, nc = r + dr, c + dc\n",
    "                if 0 <= nr < grid_size and 0 <= nc < grid_size and regions[nr][nc] == '':\n",
    "                    # Fill adjacent cells\n",
    "                    regions[nr][nc] = region_label\n",
    "                    queue.append((nr, nc))\n",
    "                    filled_cells += 1\n",
    "                    \n",
    "                    if filled_cells == (grid_size * grid_size) // grid_size:  # Fill only enough cells per region\n",
    "                        return\n",
    "        \n",
    "    # For each label, generate a region\n",
    "    region_cells_needed = (grid_size * grid_size) // len(labels)\n",
    "    \n",
    "    for label in labels:\n",
    "        # Randomly pick a start point in the grid\n",
    "        start_row, start_col = random.randint(0, grid_size - 1), random.randint(0, grid_size - 1)\n",
    "        \n",
    "        # Ensure the starting point is not already assigned to a region\n",
    "        while regions[start_row][start_col] != '':\n",
    "            start_row, start_col = random.randint(0, grid_size - 1), random.randint(0, grid_size - 1)\n",
    "        \n",
    "        # Start flood-fill from this point to assign the region\n",
    "        flood_fill(start_row, start_col, label)\n",
    "\n",
    "    return regions\n",
    "\n",
    "# # Example for testing\n",
    "# grid_size = 5\n",
    "# regions = generate_regions(grid_size)\n",
    "\n",
    "# # Print the generated regions grid\n",
    "# print(regions)\n"
   ]
  },
  {
   "cell_type": "markdown",
   "metadata": {},
   "source": [
    "encode the star battle constraints into sat solver clauses so we can use sat solver (glucose3)"
   ]
  },
  {
   "cell_type": "code",
   "execution_count": 38,
   "metadata": {},
   "outputs": [],
   "source": [
    "def encode_star_battle_sat(grid_size, n_stars, regions):\n",
    "    \"\"\"Encodes the Star Battle puzzle into a SAT problem.\"\"\"\n",
    "    solver = Solver(name=\"g3\")  # Glucose3 SAT solver\n",
    "\n",
    "    def var(r, c):\n",
    "        \"\"\"Generate a unique variable index for (r, c).\"\"\"\n",
    "        return r * grid_size + c + 1  # SAT solvers use 1-based indexing\n",
    "\n",
    "    # Row constraints: Each row must have exactly n_stars\n",
    "    for r in range(grid_size):\n",
    "        solver.add_clause([var(r, c) for c in range(grid_size)])  # At least one star in row\n",
    "        solver.add_atmost([var(r, c) for c in range(grid_size)], n_stars)  # At most n_stars\n",
    "\n",
    "    # Column constraints: Each column must have exactly n_stars\n",
    "    for c in range(grid_size):\n",
    "        solver.add_clause([var(r, c) for r in range(grid_size)])\n",
    "        solver.add_atmost([var(r, c) for r in range(grid_size)], n_stars)\n",
    "\n",
    "    # Region constraints: Each region must have exactly n_stars\n",
    "    region_dict = {}\n",
    "    for r in range(grid_size):\n",
    "        for c in range(grid_size):\n",
    "            region_dict.setdefault(regions[r][c], []).append(var(r, c))\n",
    "\n",
    "    for region_vars in region_dict.values():\n",
    "        solver.add_clause(region_vars)  # At least one star in each region\n",
    "        solver.add_atmost(region_vars, n_stars)  # At most n_stars in region\n",
    "\n",
    "    # Adjacency constraints: No two adjacent cells can have a star\n",
    "    for r in range(grid_size):\n",
    "        for c in range(grid_size):\n",
    "            neighbors = [\n",
    "                (r+dr, c+dc) for dr in [-1, 0, 1] for dc in [-1, 0, 1]\n",
    "                if (dr != 0 or dc != 0) and 0 <= r+dr < grid_size and 0 <= c+dc < grid_size\n",
    "            ]\n",
    "            for nr, nc in neighbors:\n",
    "                solver.add_clause([-var(r, c), -var(nr, nc)])  # If one cell has a star, the other cannot\n",
    "\n",
    "    return solver\n",
    "\n"
   ]
  },
  {
   "cell_type": "code",
   "execution_count": 27,
   "metadata": {},
   "outputs": [],
   "source": [
    "def generate_star_battle(grid_size):\n",
    "    \"\"\"Generates a Star Battle puzzle and ensures it has a unique solution using a SAT solver.\"\"\"\n",
    "    n_stars = 1 if grid_size == 5 else 2 if grid_size == 10 else 3\n",
    "    regions = generate_regions(grid_size)\n",
    "\n",
    "    # Encode constraints into a SAT problem\n",
    "    solver = encode_star_battle_sat(grid_size, n_stars, regions)\n",
    "\n",
    "    # Solve for a valid configuration\n",
    "    if solver.solve():\n",
    "        model = solver.get_model()\n",
    "        solution = np.zeros((grid_size, grid_size), dtype=int)\n",
    "        for r in range(grid_size):\n",
    "            for c in range(grid_size):\n",
    "                if model[r * grid_size + c] > 0:\n",
    "                    solution[r][c] = 1  # Place star\n",
    "\n",
    "        # Now check uniqueness by adding a **negation constraint** of the found solution\n",
    "        negated_solution_clause = [-var(r, c) if solution[r][c] else var(r, c) for r in range(grid_size) for c in range(grid_size)]\n",
    "        solver.add_clause(negated_solution_clause)\n",
    "\n",
    "        # If solving again finds another solution, it's **not unique**, so we discard\n",
    "        if solver.solve():\n",
    "            return generate_star_battle(grid_size)  # Try again to generate a unique puzzle\n",
    "        else:\n",
    "            return regions, solution  # Unique solution found ✅\n",
    "\n",
    "    return None, None\n",
    "\n"
   ]
  },
  {
   "cell_type": "code",
   "execution_count": 40,
   "metadata": {},
   "outputs": [
    {
     "ename": "NotImplementedError",
     "evalue": "Atmost constraints are not supported by Glucose.",
     "output_type": "error",
     "traceback": [
      "\u001b[1;31m---------------------------------------------------------------------------\u001b[0m",
      "\u001b[1;31mNotImplementedError\u001b[0m                       Traceback (most recent call last)",
      "Cell \u001b[1;32mIn[40], line 4\u001b[0m\n\u001b[0;32m      1\u001b[0m \u001b[38;5;66;03m#test\u001b[39;00m\n\u001b[0;32m      2\u001b[0m grid_size \u001b[38;5;241m=\u001b[39m \u001b[38;5;241m5\u001b[39m  \n\u001b[1;32m----> 4\u001b[0m regions, solution \u001b[38;5;241m=\u001b[39m \u001b[43mgenerate_star_battle\u001b[49m\u001b[43m(\u001b[49m\u001b[43mgrid_size\u001b[49m\u001b[43m)\u001b[49m\n\u001b[0;32m      6\u001b[0m \u001b[38;5;66;03m# Display the generated puzzle and solution\u001b[39;00m\n\u001b[0;32m      7\u001b[0m \u001b[38;5;28mprint\u001b[39m(\u001b[38;5;124m\"\u001b[39m\u001b[38;5;124mGenerated Regions Grid:\u001b[39m\u001b[38;5;124m\"\u001b[39m)\n",
      "Cell \u001b[1;32mIn[27], line 7\u001b[0m, in \u001b[0;36mgenerate_star_battle\u001b[1;34m(grid_size)\u001b[0m\n\u001b[0;32m      4\u001b[0m regions \u001b[38;5;241m=\u001b[39m generate_regions(grid_size)\n\u001b[0;32m      6\u001b[0m \u001b[38;5;66;03m# Encode constraints into a SAT problem\u001b[39;00m\n\u001b[1;32m----> 7\u001b[0m solver \u001b[38;5;241m=\u001b[39m \u001b[43mencode_star_battle_sat\u001b[49m\u001b[43m(\u001b[49m\u001b[43mgrid_size\u001b[49m\u001b[43m,\u001b[49m\u001b[43m \u001b[49m\u001b[43mn_stars\u001b[49m\u001b[43m,\u001b[49m\u001b[43m \u001b[49m\u001b[43mregions\u001b[49m\u001b[43m)\u001b[49m\n\u001b[0;32m      9\u001b[0m \u001b[38;5;66;03m# Solve for a valid configuration\u001b[39;00m\n\u001b[0;32m     10\u001b[0m \u001b[38;5;28;01mif\u001b[39;00m solver\u001b[38;5;241m.\u001b[39msolve():\n",
      "Cell \u001b[1;32mIn[38], line 12\u001b[0m, in \u001b[0;36mencode_star_battle_sat\u001b[1;34m(grid_size, n_stars, regions)\u001b[0m\n\u001b[0;32m     10\u001b[0m \u001b[38;5;28;01mfor\u001b[39;00m r \u001b[38;5;129;01min\u001b[39;00m \u001b[38;5;28mrange\u001b[39m(grid_size):\n\u001b[0;32m     11\u001b[0m     solver\u001b[38;5;241m.\u001b[39madd_clause([var(r, c) \u001b[38;5;28;01mfor\u001b[39;00m c \u001b[38;5;129;01min\u001b[39;00m \u001b[38;5;28mrange\u001b[39m(grid_size)])  \u001b[38;5;66;03m# At least one star in row\u001b[39;00m\n\u001b[1;32m---> 12\u001b[0m     \u001b[43msolver\u001b[49m\u001b[38;5;241;43m.\u001b[39;49m\u001b[43madd_atmost\u001b[49m\u001b[43m(\u001b[49m\u001b[43m[\u001b[49m\u001b[43mvar\u001b[49m\u001b[43m(\u001b[49m\u001b[43mr\u001b[49m\u001b[43m,\u001b[49m\u001b[43m \u001b[49m\u001b[43mc\u001b[49m\u001b[43m)\u001b[49m\u001b[43m \u001b[49m\u001b[38;5;28;43;01mfor\u001b[39;49;00m\u001b[43m \u001b[49m\u001b[43mc\u001b[49m\u001b[43m \u001b[49m\u001b[38;5;129;43;01min\u001b[39;49;00m\u001b[43m \u001b[49m\u001b[38;5;28;43mrange\u001b[39;49m\u001b[43m(\u001b[49m\u001b[43mgrid_size\u001b[49m\u001b[43m)\u001b[49m\u001b[43m]\u001b[49m\u001b[43m,\u001b[49m\u001b[43m \u001b[49m\u001b[43mn_stars\u001b[49m\u001b[43m)\u001b[49m  \u001b[38;5;66;03m# At most n_stars\u001b[39;00m\n\u001b[0;32m     14\u001b[0m \u001b[38;5;66;03m# Column constraints: Each column must have exactly n_stars\u001b[39;00m\n\u001b[0;32m     15\u001b[0m \u001b[38;5;28;01mfor\u001b[39;00m c \u001b[38;5;129;01min\u001b[39;00m \u001b[38;5;28mrange\u001b[39m(grid_size):\n",
      "File \u001b[1;32m~\\AppData\\Local\\Packages\\PythonSoftwareFoundation.Python.3.11_qbz5n2kfra8p0\\LocalCache\\local-packages\\Python311\\site-packages\\pysat\\solvers.py:1386\u001b[0m, in \u001b[0;36mSolver.add_atmost\u001b[1;34m(self, lits, k, weights, no_return)\u001b[0m\n\u001b[0;32m   1345\u001b[0m \u001b[38;5;250m\u001b[39m\u001b[38;5;124;03m\"\"\"\u001b[39;00m\n\u001b[0;32m   1346\u001b[0m \u001b[38;5;124;03m    This method is responsible for adding a new *native* AtMostK (see\u001b[39;00m\n\u001b[0;32m   1347\u001b[0m \u001b[38;5;124;03m    :mod:`pysat.card`) constraint.\u001b[39;00m\n\u001b[1;32m   (...)\u001b[0m\n\u001b[0;32m   1382\u001b[0m \u001b[38;5;124;03m        >>> # the AtMostK constraint is in conflict with initial unit clauses\u001b[39;00m\n\u001b[0;32m   1383\u001b[0m \u001b[38;5;124;03m\"\"\"\u001b[39;00m\n\u001b[0;32m   1385\u001b[0m \u001b[38;5;28;01mif\u001b[39;00m \u001b[38;5;28mself\u001b[39m\u001b[38;5;241m.\u001b[39msolver:\n\u001b[1;32m-> 1386\u001b[0m     res \u001b[38;5;241m=\u001b[39m \u001b[38;5;28;43mself\u001b[39;49m\u001b[38;5;241;43m.\u001b[39;49m\u001b[43msolver\u001b[49m\u001b[38;5;241;43m.\u001b[39;49m\u001b[43madd_atmost\u001b[49m\u001b[43m(\u001b[49m\u001b[43mlits\u001b[49m\u001b[43m,\u001b[49m\u001b[43m \u001b[49m\u001b[43mk\u001b[49m\u001b[43m,\u001b[49m\u001b[43m \u001b[49m\u001b[43mweights\u001b[49m\u001b[43m,\u001b[49m\u001b[43m \u001b[49m\u001b[43mno_return\u001b[49m\u001b[43m)\u001b[49m\n\u001b[0;32m   1387\u001b[0m     \u001b[38;5;28;01mif\u001b[39;00m \u001b[38;5;129;01mnot\u001b[39;00m no_return:\n\u001b[0;32m   1388\u001b[0m         \u001b[38;5;28;01mreturn\u001b[39;00m res\n",
      "File \u001b[1;32m~\\AppData\\Local\\Packages\\PythonSoftwareFoundation.Python.3.11_qbz5n2kfra8p0\\LocalCache\\local-packages\\Python311\\site-packages\\pysat\\solvers.py:3785\u001b[0m, in \u001b[0;36mGlucose3.add_atmost\u001b[1;34m(self, lits, k, weights, no_return)\u001b[0m\n\u001b[0;32m   3780\u001b[0m \u001b[38;5;28;01mdef\u001b[39;00m \u001b[38;5;21madd_atmost\u001b[39m(\u001b[38;5;28mself\u001b[39m, lits, k, weights\u001b[38;5;241m=\u001b[39m[], no_return\u001b[38;5;241m=\u001b[39m\u001b[38;5;28;01mTrue\u001b[39;00m):\n\u001b[0;32m   3781\u001b[0m \u001b[38;5;250m    \u001b[39m\u001b[38;5;124;03m\"\"\"\u001b[39;00m\n\u001b[0;32m   3782\u001b[0m \u001b[38;5;124;03m        Atmost constraints are not supported by Glucose.\u001b[39;00m\n\u001b[0;32m   3783\u001b[0m \u001b[38;5;124;03m    \"\"\"\u001b[39;00m\n\u001b[1;32m-> 3785\u001b[0m     \u001b[38;5;28;01mraise\u001b[39;00m \u001b[38;5;167;01mNotImplementedError\u001b[39;00m(\u001b[38;5;124m'\u001b[39m\u001b[38;5;124mAtmost constraints are not supported by Glucose.\u001b[39m\u001b[38;5;124m'\u001b[39m)\n",
      "\u001b[1;31mNotImplementedError\u001b[0m: Atmost constraints are not supported by Glucose."
     ]
    }
   ],
   "source": [
    "#test\n",
    "grid_size = 5  \n",
    "\n",
    "regions, solution = generate_star_battle(grid_size)\n",
    "\n",
    "# Display the generated puzzle and solution\n",
    "print(\"Generated Regions Grid:\")\n",
    "for row in regions:\n",
    "    print(\" \".join(row))\n",
    "\n",
    "print(\"\\nGenerated Solution Grid:\")\n",
    "for row in solution:\n",
    "    print(\" \".join(str(cell) for cell in row))\n"
   ]
  },
  {
   "cell_type": "code",
   "execution_count": null,
   "metadata": {},
   "outputs": [],
   "source": [
    "#test\n",
    "puzzle, solution = generate_star_battle(5)\n",
    "\n",
    "print(\"Puzzle Grid:\")\n",
    "print(puzzle)\n",
    "\n",
    "print(\"\\nSolution Grid:\")\n",
    "print(solution)"
   ]
  },
  {
   "cell_type": "markdown",
   "metadata": {},
   "source": [
    "1.3 Data structure choices"
   ]
  },
  {
   "cell_type": "code",
   "execution_count": null,
   "metadata": {},
   "outputs": [],
   "source": [
    "print(\"examples class\")"
   ]
  },
  {
   "cell_type": "markdown",
   "metadata": {},
   "source": [
    "1.4 Storing and compiling puzzles"
   ]
  },
  {
   "cell_type": "markdown",
   "metadata": {},
   "source": [
    "1.4 SAT solve to validate uniqueness of puzzles"
   ]
  },
  {
   "cell_type": "markdown",
   "metadata": {},
   "source": [
    "1.6 Generate initial test set of puzzles"
   ]
  },
  {
   "cell_type": "code",
   "execution_count": null,
   "metadata": {},
   "outputs": [],
   "source": [
    "print(\"test set of puzzles\")"
   ]
  }
 ],
 "metadata": {
  "kernelspec": {
   "display_name": "Python 3",
   "language": "python",
   "name": "python3"
  },
  "language_info": {
   "codemirror_mode": {
    "name": "ipython",
    "version": 3
   },
   "file_extension": ".py",
   "mimetype": "text/x-python",
   "name": "python",
   "nbconvert_exporter": "python",
   "pygments_lexer": "ipython3",
   "version": "3.11.9"
  }
 },
 "nbformat": 4,
 "nbformat_minor": 2
}
